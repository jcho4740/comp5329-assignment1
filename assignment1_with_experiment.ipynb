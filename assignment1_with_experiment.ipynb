{
 "cells": [
  {
   "cell_type": "markdown",
   "source": [
    "## How to run code\n",
    "\n",
    "#### 1. Declare all classes and common functions\n",
    "#####      - Classes: Layer, Optimizer, Loss, MLP\n",
    "#####      - Functions: f1_score (evaluation), mini_batch (use to make batches)\n",
    "#### 2. Load the train and test data (including split train data into train and validation)\n",
    "#### 3. Create a model\n",
    "#### 4. Train a model\n",
    "#### 5. Make a prediction\n",
    "#### 6. Evaluate results"
   ],
   "metadata": {
    "collapsed": false,
    "pycharm": {
     "name": "#%% md\n"
    }
   }
  },
  {
   "cell_type": "code",
   "execution_count": 1,
   "id": "d77b9164",
   "metadata": {
    "pycharm": {
     "name": "#%%\n"
    }
   },
   "outputs": [],
   "source": [
    "# import packages\n",
    "import numpy as np\n",
    "from scipy.stats import bernoulli\n",
    "import pandas as pd\n",
    "import seaborn as sns"
   ]
  },
  {
   "cell_type": "markdown",
   "source": [
    "#### Linear Layer, ReLULayer, SoftMaxLayer, BatchNormalizationLayer, DropOutLayer, SigmoidLayer(unused)\n",
    "## Define Layers"
   ],
   "metadata": {
    "collapsed": false,
    "pycharm": {
     "name": "#%% md\n"
    }
   }
  },
  {
   "cell_type": "code",
   "execution_count": 2,
   "outputs": [],
   "source": [
    "class Layer:\n",
    "\n",
    "    # abstract class for layers\n",
    "\n",
    "    def forward(self, x: np.ndarray, train_flag=True):\n",
    "        pass\n",
    "\n",
    "    def backward(self, delta: np.ndarray):\n",
    "        pass\n",
    "\n",
    "class LinearLayer(Layer):\n",
    "    # Linear Layer\n",
    "    # output(y) = input(x) @ w + b\n",
    "\n",
    "    input: np.ndarray\n",
    "    output: np.ndarray\n",
    "    weight: np.ndarray\n",
    "    bias: np.ndarray\n",
    "    delta: np.ndarray\n",
    "\n",
    "    weight_grad: np.ndarray\n",
    "    bias_grad: np.ndarray\n",
    "\n",
    "    def __init__(self, input_size, output_size):\n",
    "\n",
    "        # Randomly assign small values for the weights as the initialization\n",
    "        self.weight = np.random.uniform(\n",
    "            # initialization (He) for ReLU, Kaiming_uniform\n",
    "            high = np.sqrt(6. / input_size),\n",
    "            low = -np.sqrt(6. / input_size),\n",
    "            size = (input_size, output_size)\n",
    "        )\n",
    "\n",
    "        # Initialize bias, delta\n",
    "        self.bias = np.zeros(output_size,)\n",
    "        self.delta = np.zeros(output_size,)\n",
    "\n",
    "        # Initialize weight_grad, bias_grad\n",
    "        self.weight_grad = np.zeros((input_size, output_size))\n",
    "        self.bias_grad = np.zeros(output_size,)\n",
    "\n",
    "    def forward(self, x:np.ndarray, train_flag=True):\n",
    "        if not isinstance(x, np.ndarray):\n",
    "            raise RuntimeError(\"input x must be a numpy array\")\n",
    "\n",
    "        self.input = x\n",
    "\n",
    "        # Propagate inputs through the network\n",
    "        # y = w^t @ x + b = x @ w + b\n",
    "        self.output = np.dot(x, self.weight) + self.bias\n",
    "\n",
    "        return self.output\n",
    "\n",
    "    def backward(self, delta):\n",
    "        # backward propagation\n",
    "\n",
    "        # calculate gradient and delta\n",
    "        self.weight_grad += np.atleast_2d(self.input).T @ np.atleast_2d(delta)\n",
    "        self.bias_grad += np.sum(delta, axis=0)\n",
    "        self.delta = delta\n",
    "\n",
    "        return delta @ self.weight.T\n",
    "\n",
    "    def update(self, weight, bias):\n",
    "        # update parameters (wight and bias)\n",
    "        self.weight = weight\n",
    "        self.bias = bias\n",
    "\n",
    "    def zero_grad(self):\n",
    "        # set gradient to 0\n",
    "        self.weight_grad.fill(0)\n",
    "        self.bias_grad.fill(0)\n",
    "\n",
    "class ReLULayer(Layer):\n",
    "\n",
    "    # ReLU Layer (Activation)\n",
    "\n",
    "    def __init__(self):\n",
    "        # save for backward\n",
    "        self.out = np.zeros(0)\n",
    "\n",
    "    def forward(self, x: np.ndarray, train_flag=True):\n",
    "        # forward propagation\n",
    "        # input <= 0 then ouput = 0, input > 0 then output = input\n",
    "        self.out = np.maximum(0, x)\n",
    "        return self.out\n",
    "\n",
    "    def backward(self, delta: np.ndarray):\n",
    "        # backward propagation of ReLU\n",
    "        return np.where(self.out > 0, 1, 0) * delta\n",
    "\n",
    "class SoftMaxLayer(Layer):\n",
    "    # Softmax Layer (Activation)\n",
    "\n",
    "    def forward(self, x: np.ndarray, train_flag=True):\n",
    "        exp_x = np.exp(x - np.max(x))\n",
    "        out = exp_x / np.atleast_2d(np.sum(exp_x, 1)).T\n",
    "        return out\n",
    "\n",
    "    def backward(self, delta: np.ndarray):\n",
    "        # include cross-entropy loss\n",
    "        return delta\n",
    "\n",
    "class SigmoidLayer(Layer):\n",
    "\n",
    "    # Sigmoid Layer (not used)\n",
    "\n",
    "    def forward(self, x: np.ndarray, train_flag=True):\n",
    "        return 1 / (1 + np.exp(-x))\n",
    "\n",
    "    def backward(self, delta: np.ndarray):\n",
    "        return delta * (1 - delta)\n",
    "\n",
    "class BatchNormalizationLayer(Layer):\n",
    "    # Batch Normalization Layer\n",
    "\n",
    "    def __init__(self, intput_size: int, momentum=0.9, eps=1e-8):\n",
    "\n",
    "        self.momentum = momentum # for calculating moving average\n",
    "        self.eps = eps\n",
    "\n",
    "        self.gamma = np.ones((1, intput_size), dtype=\"float32\")\n",
    "        self.beta = np.zeros((1, intput_size), dtype=\"float32\")\n",
    "\n",
    "        self.running_mu = np.zeros(0)\n",
    "        self.running_var = np.zeros(0)\n",
    "\n",
    "        # for forward\n",
    "        self.mu = np.zeros(0)\n",
    "        self.var = np.zeros(0)\n",
    "        self.std = np.zeros(0)\n",
    "\n",
    "        self.x_minus_mu = np.zeros(0)\n",
    "        self.x_norm = np.zeros(0)\n",
    "\n",
    "        # for backward\n",
    "        self.batch_size = None\n",
    "        self.d_gamma = np.zeros(0)\n",
    "        self.d_beta = np.zeros(0)\n",
    "\n",
    "    def update_running_variables(self):\n",
    "\n",
    "        # update running mu and var, used for prediction\n",
    "        is_mu_empty = np.array_equal(np.zeros(0), self.running_mu)\n",
    "        is_var_empty = np.array_equal(np.zeros(0), self.running_var)\n",
    "        if is_mu_empty != is_var_empty:\n",
    "            raise ValueError(\"mean and var should be initialized simultaneously\")\n",
    "\n",
    "        if is_mu_empty:\n",
    "            self.running_mu = self.mu\n",
    "            self.running_var = self.var\n",
    "        else:\n",
    "            # cannot store all mean & various of batches -> using moving average\n",
    "            self.running_mu = self.momentum * self.running_mu + (1 - self.momentum) * self.mu\n",
    "            self.running_var = self.momentum * self.running_var + (1 - self.momentum) * self.var\n",
    "\n",
    "    def forward(self, x: np.ndarray, train_flag=True):\n",
    "\n",
    "        if train_flag:\n",
    "            # if it is training, use batch data to caculate normalized x\n",
    "            self.mu = np.mean(x, axis=0)\n",
    "            self.x_minus_mu = x - self.mu\n",
    "            self.var = np.mean(self.x_minus_mu**2, axis=0)\n",
    "            self.std = np.sqrt(self.var + self.eps)\n",
    "            x_norm = self.x_minus_mu / self.std\n",
    "\n",
    "            self.batch_size = x.shape[0]\n",
    "            self.x_norm = x_norm\n",
    "\n",
    "            self.update_running_variables()\n",
    "        else:\n",
    "            # if it is not training, use running values to calculate normalized x\n",
    "            x_minus_mu = x - self.running_mu\n",
    "            x_norm = x_minus_mu / (np.sqrt(self.running_var + self.eps))\n",
    "\n",
    "        return self.gamma * x_norm + self.beta\n",
    "\n",
    "    def backward(self, d_out: np.ndarray) -> np.ndarray:\n",
    "        # calculate gradient\n",
    "\n",
    "        self.d_beta = np.sum(d_out, axis=0)\n",
    "        self.d_gamma = np.sum(d_out * self.x_norm, axis=0)\n",
    "\n",
    "        d_x_norm = d_out * self.gamma\n",
    "        d_x_minus_mu1 = d_x_norm / self.std\n",
    "\n",
    "        d_std = -np.sum((d_x_norm * self.x_minus_mu) / (self.std**2), axis=0)\n",
    "        d_var = 0.5 * d_std / self.std\n",
    "\n",
    "        d_x_minus_mu2 = (2 / self.batch_size) * self.x_minus_mu * d_var\n",
    "\n",
    "        d_x1 = d_x_minus_mu1 + d_x_minus_mu2\n",
    "\n",
    "        d_mu = -1 * np.sum(d_x_minus_mu1 + d_x_minus_mu2, axis=0)\n",
    "        d_x2 = d_mu  / self.batch_size\n",
    "\n",
    "        d_x = d_x1 + d_x2\n",
    "\n",
    "        return d_x\n",
    "\n",
    "    def update(self, learning_rate):\n",
    "        # update parameters (gamma, beta)\n",
    "        self.gamma -= learning_rate * self.d_gamma\n",
    "        self.beta -= learning_rate * self.d_beta\n",
    "\n",
    "    def zero_grad(self):\n",
    "        # set gradient to 0\n",
    "        self.d_gamma.fill(0)\n",
    "        self.d_beta.fill(0)\n",
    "\n",
    "class DropOutLayer(Layer):\n",
    "    # Dropout Layer\n",
    "    # Dropout neurons using bernoulli random variable\n",
    "\n",
    "    def __init__(self, dropout_ratio=0.6):\n",
    "        self.mask = None\n",
    "        self.present_ratio = 1.0 - dropout_ratio\n",
    "\n",
    "    def forward(self, x, train_flag=True):\n",
    "        if train_flag:\n",
    "            # if it is training, do droupout\n",
    "\n",
    "            # dropout using bernoulli random variable\n",
    "            self.mask = (bernoulli.rvs(size=x.shape[0] * x.shape[1], p=self.present_ratio)).reshape(*x.shape)\n",
    "\n",
    "            # weights are scaled-up by a factor of 1/𝑝, present with probability p, p = 1 - dropout_ratio\n",
    "            return x * self.mask / self.present_ratio\n",
    "        else:\n",
    "            # if it is not training, do not droupout\n",
    "            return x * self.present_ratio\n",
    "\n",
    "    def backward(self, dout):\n",
    "        # also drop and scale up in backward propagation\n",
    "        return dout * self.mask / self.present_ratio"
   ],
   "metadata": {
    "collapsed": false,
    "pycharm": {
     "name": "#%%\n"
    }
   }
  },
  {
   "cell_type": "markdown",
   "source": [
    "## Define Optimizers\n",
    "#### SGD, Momentum (with weight decay), Adam (with weight decay)"
   ],
   "metadata": {
    "collapsed": false,
    "pycharm": {
     "name": "#%% md\n"
    }
   }
  },
  {
   "cell_type": "code",
   "execution_count": 3,
   "outputs": [],
   "source": [
    "class Optimizer:\n",
    "\n",
    "    # Optimizer Layer\n",
    "    # step(): update parameters\n",
    "    # zero_grad: initialize gradient to zero\n",
    "\n",
    "    def __init__(self, model):\n",
    "\n",
    "        if not isinstance(model, MLP):\n",
    "            raise RuntimeError(\"Use only MLP model\")\n",
    "\n",
    "        self.model = model\n",
    "\n",
    "        return\n",
    "\n",
    "    def zero_grad(self):\n",
    "        pass\n",
    "\n",
    "    def step(self):\n",
    "        pass\n",
    "\n",
    "class SGD(Optimizer):\n",
    "    # Stochastic Gradient Descent (not used)\n",
    "\n",
    "    learning_rate: float\n",
    "\n",
    "    def __init__(self, model, learning_rate=0.1):\n",
    "        super(SGD, self).__init__(model)\n",
    "        self.learning_rate = learning_rate\n",
    "\n",
    "    def step(self):\n",
    "        # update parameters\n",
    "        for layer in self.model.hidden_layers:\n",
    "            # update parameters, θ = θ - η * gradient\n",
    "            weight = layer.weight - self.learning_rate * layer.weight_grad\n",
    "            bias = layer.bias - self.learning_rate * layer.bias_grad\n",
    "            layer.update(weight, bias)\n",
    "\n",
    "    def zero_grad(self):\n",
    "        # set gradient to 0\n",
    "        for layer in self.model.hidden_layers:\n",
    "            if isinstance(layer, LinearLayer) or isinstance(layer, BatchNormalizationLayer):\n",
    "                layer.zero_grad()\n",
    "        return\n",
    "\n",
    "class Momentum(Optimizer):\n",
    "    # Momentum Optimizer\n",
    "\n",
    "    def __init__(self, model, learning_rate=0.1, momentum=0.9, weight_decay=0):\n",
    "        super(Momentum, self).__init__(model)\n",
    "        self.learning_rate = learning_rate\n",
    "        self.momentum = momentum\n",
    "        self.weight_decay = weight_decay\n",
    "\n",
    "        # initialize v_t\n",
    "        self.v = []\n",
    "        for layer in self.model.hidden_layers:\n",
    "            # A Optimizer works for only Linear Layer\n",
    "            if isinstance(layer, LinearLayer):\n",
    "                self.v.append({'weight': np.zeros_like(layer.weight), 'bias': np.zeros_like(layer.bias)})\n",
    "            else:\n",
    "                self.v.append(None)\n",
    "\n",
    "        return\n",
    "\n",
    "    def step(self):\n",
    "        for idx, layer in enumerate(self.model.hidden_layers):\n",
    "            if isinstance(layer, LinearLayer):\n",
    "                # update parameters of linear layer (weight, bias)\n",
    "\n",
    "                # compute v_t of weight and bias, v_t = γ * v_t-1 + η * gradient\n",
    "                self.v[idx]['weight'] = self.momentum * self.v[idx]['weight'] + self.learning_rate * layer.weight_grad\n",
    "                self.v[idx]['bias'] = self.momentum * self.v[idx]['bias'] + self.learning_rate * layer.bias\n",
    "\n",
    "                # update network, θ = θ - v_t\n",
    "                # weight decay: θ = (1 - ηα) * θ - η * gradient = (1 - ηα) * θ - v_t\n",
    "                weight = (1 - self.learning_rate * self.weight_decay) * layer.weight - self.v[idx]['weight']\n",
    "                bias = (1 - self.learning_rate * self.weight_decay) * layer.bias - self.v[idx]['bias']\n",
    "\n",
    "                layer.update(weight, bias)\n",
    "\n",
    "            if isinstance(layer, BatchNormalizationLayer):\n",
    "                # update parameters of BatchNormalization layer (gamma, beta)\n",
    "                layer.update(self.learning_rate)\n",
    "\n",
    "    def zero_grad(self):\n",
    "        # initialize gradient\n",
    "        for layer in self.model.hidden_layers:\n",
    "            if isinstance(layer, LinearLayer) or isinstance(layer, BatchNormalizationLayer):\n",
    "                layer.zero_grad()\n",
    "\n",
    "        # initialize v\n",
    "        for v in self.v:\n",
    "            if not v is None:\n",
    "                v['weight'].fill(0)\n",
    "                v['bias'].fill(0)\n",
    "\n",
    "        return\n",
    "\n",
    "class Adam(Optimizer):\n",
    "    # ADAM(adaptive moment estimation) Optimizer\n",
    "\n",
    "    def __init__(self, model, learning_rate, beta1=0.9, beta2=0.999, weight_decay=0, eps=1e-08):\n",
    "        super(Adam, self).__init__(model)\n",
    "        self.learning_rate = learning_rate\n",
    "        self.weight_decay = weight_decay\n",
    "        self.beta1 = beta1\n",
    "        self.beta2 = beta2\n",
    "        self.eps = eps\n",
    "\n",
    "        # initialize m, v, t\n",
    "        self.m = []\n",
    "        self.v = []\n",
    "        self.t = []\n",
    "\n",
    "        for layer in self.model.hidden_layers:\n",
    "            # A Optimizer works for only Linear Layer\n",
    "            if isinstance(layer, LinearLayer):\n",
    "                self.m.append({'weight': np.zeros_like(layer.weight), 'bias': np.zeros_like(layer.bias)})\n",
    "                self.v.append({'weight': np.zeros_like(layer.weight), 'bias': np.zeros_like(layer.bias)})\n",
    "                self.t.append(1)\n",
    "            else:\n",
    "                self.m.append(None)\n",
    "                self.v.append(None)\n",
    "                self.t.append(None)\n",
    "\n",
    "    def step(self):\n",
    "        # update parameters\n",
    "        # (weight, bias) for linear, (gamma, beta) for batch normalization\n",
    "\n",
    "        for idx, layer in enumerate(self.model.hidden_layers):\n",
    "            if isinstance(layer, LinearLayer):\n",
    "                # update weight and bias\n",
    "                m_hat = {}\n",
    "                v_hat = {}\n",
    "\n",
    "                # calculate m_t, m_t_hat for weight\n",
    "                self.m[idx]['weight'] = self.beta1 * self.m[idx]['weight'] + (1 - self.beta1) * layer.weight_grad\n",
    "                self.v[idx]['weight'] = self.beta2 * self.v[idx]['weight'] + (1 - self.beta2) * layer.weight_grad**2\n",
    "                m_hat['weight'] = self.m[idx]['weight'] / (1 - self.beta1**self.t[idx])\n",
    "                v_hat['weight'] = self.v[idx]['weight'] / (1 - self.beta2**self.t[idx])\n",
    "                # calculate m_t, m_t_hat for bias\n",
    "                self.m[idx]['bias'] = self.beta1 * self.m[idx]['bias'] + (1 - self.beta1) * layer.bias_grad\n",
    "                self.v[idx]['bias'] = self.beta2 * self.v[idx]['bias'] + (1 - self.beta2) * layer.bias_grad**2\n",
    "                m_hat['bias'] = self.m[idx]['bias'] / (1 - self.beta1**self.t[idx])\n",
    "                v_hat['bias'] = self.v[idx]['bias'] / (1 - self.beta2**self.t[idx])\n",
    "\n",
    "                # calculate gradient\n",
    "                # update network, θ = θ - η * m_t / sqrt(v_t + e)\n",
    "                # weight decay: θ = (1 - ηα) * θ - η * gradient = (1 - ηα) * θ - η * m_t / sqrt(v_t + e)\n",
    "                grad_weight = m_hat['weight'] / np.sqrt(v_hat['weight'] + self.eps)\n",
    "                grad_bias = m_hat['bias'] / np.sqrt(v_hat['bias'] + self.eps)\n",
    "\n",
    "                # gradient clipping for weight and bias\n",
    "                norm_weight = np.linalg.norm(grad_weight)\n",
    "                if norm_weight > 1.0:\n",
    "                    grad_weight = grad_weight * (1.0 / norm_weight)\n",
    "                norm_bias = np.linalg.norm(grad_weight)\n",
    "                if norm_bias > 1.0:\n",
    "                    grad_weight = grad_weight * (1.0 / norm_bias)\n",
    "\n",
    "                # update weight and bias of linear layer\n",
    "                weight = (1 - self.learning_rate * self.weight_decay) * layer.weight - self.learning_rate * grad_weight\n",
    "                bias = (1 - self.learning_rate * self.weight_decay) * layer.bias - self.learning_rate * grad_bias\n",
    "                layer.update(weight, bias)\n",
    "\n",
    "                self.t[idx] += 1\n",
    "\n",
    "            if isinstance(layer, BatchNormalizationLayer):\n",
    "                # update gamma and beta of batch normalization layer\n",
    "                layer.update(self.learning_rate)\n",
    "\n",
    "    def zero_grad(self):\n",
    "        # initialize gradients of layers\n",
    "        for layer in self.model.hidden_layers:\n",
    "            if isinstance(layer, LinearLayer) or isinstance(layer, BatchNormalizationLayer):\n",
    "                layer.zero_grad()\n",
    "\n",
    "        # initialize m, v, t\n",
    "        for i in range(len(self.m)):\n",
    "            if not self.m[i] is None:\n",
    "                self.m[i]['weight'].fill(0)\n",
    "                self.m[i]['bias'].fill(0)\n",
    "\n",
    "            if not self.v[i] is None:\n",
    "                self.v[i]['weight'].fill(0)\n",
    "                self.v[i]['bias'].fill(0)\n",
    "\n",
    "            self.t[i] = 1"
   ],
   "metadata": {
    "collapsed": false,
    "pycharm": {
     "name": "#%%\n"
    }
   }
  },
  {
   "cell_type": "markdown",
   "source": [
    "## Define\n",
    "#### Cross-Entropy Loss"
   ],
   "metadata": {
    "collapsed": false,
    "pycharm": {
     "name": "#%% md\n"
    }
   }
  },
  {
   "cell_type": "code",
   "execution_count": 4,
   "outputs": [],
   "source": [
    "class Loss:\n",
    "    # class for loss function\n",
    "\n",
    "    loss: int\n",
    "    delta: np.ndarray\n",
    "\n",
    "    def __init__(self, model):\n",
    "        if not isinstance(model, MLP):\n",
    "            raise RuntimeError(\"Use only MLP model\")\n",
    "\n",
    "        self.model = model\n",
    "        return\n",
    "\n",
    "    def backward(self):\n",
    "        self.model.backward(self.delta)\n",
    "\n",
    "class CrossEntropyLoss(Loss):\n",
    "    # Cross-Entropy Loss\n",
    "    # Backward propagation includes softmax for computing efficiency, delta = y_hat - y\n",
    "\n",
    "    def __init__(self, model, y_hat, y, is_one_hot=False, eps=1e-8):\n",
    "        super(CrossEntropyLoss, self).__init__(model)\n",
    "        self.eps = eps\n",
    "\n",
    "        if is_one_hot:\n",
    "            # if format of y is one-hot encoding\n",
    "            # compute loss\n",
    "            self.loss = -np.sum(y * np.log(y_hat + self.eps)) / (y.shape[0])\n",
    "\n",
    "            # Compute delta of output layer\n",
    "            self.delta = y_hat - y\n",
    "            self.delta /= np.atleast_2d(y_hat).shape[0]\n",
    "        else:\n",
    "            # if format of y is not one-hot encoding\n",
    "            if y_hat.ndim ==1:\n",
    "                y_hat = np.atleast_2d(y_hat)\n",
    "                y = np.atleast_2d(y)\n",
    "            # compute loss\n",
    "            self.loss = -np.sum(np.log(y_hat[np.arange(y_hat.shape[0]),y] + self.eps)) / y_hat.shape[0]\n",
    "\n",
    "            # Compute delta of output layer (for softmax cross-entropy: y_hat - y)\n",
    "            # actual y value is always 0 or 1, but y value in this function has a label value between 0 and 9 (not one-hot encoding)\n",
    "            # so, use y as an index and subtract 1 from y_hat[y].\n",
    "            self.delta = np.copy(y_hat)\n",
    "            self.delta[np.arange(y_hat.shape[0]), y] -= 1\n",
    "            self.delta /= np.atleast_2d(y_hat).shape[0]\n",
    "\n",
    "        return\n",
    "\n",
    "    def get_loss(self):\n",
    "        # return loss\n",
    "        return self.loss"
   ],
   "metadata": {
    "collapsed": false,
    "pycharm": {
     "name": "#%%\n"
    }
   }
  },
  {
   "cell_type": "markdown",
   "source": [
    "## Define Multi Layer Perceptron Class"
   ],
   "metadata": {
    "collapsed": false,
    "pycharm": {
     "name": "#%% md\n"
    }
   }
  },
  {
   "cell_type": "code",
   "execution_count": 5,
   "outputs": [],
   "source": [
    "# MLP model\n",
    "class MLP:\n",
    "    # class for Multi Layer Perceptron Model\n",
    "\n",
    "    hidden_layers: list # e.g. linear, activation, batch normalization, dropout\n",
    "    parameters: list # for model saving and loading during early stopping in training\n",
    "\n",
    "    def __init__(self, layers: list):\n",
    "        self.hidden_layers = layers\n",
    "        self.parameters = []\n",
    "        return\n",
    "\n",
    "    def forward(self, x, train_flag=True):\n",
    "        # forward propagate inputs through the network\n",
    "        for i in range(len(self.hidden_layers)):\n",
    "            x = self.hidden_layers[i].forward(x, train_flag=train_flag)\n",
    "\n",
    "        return x\n",
    "\n",
    "    def backward(self, delta):\n",
    "        # backward propagation\n",
    "        for i in reversed(range(len(self.hidden_layers))):\n",
    "            delta = self.hidden_layers[i].backward(delta)\n",
    "\n",
    "    def train(self, x_train:np.ndarray, y_train:np.ndarray, x_valid:np.ndarray, y_valid:np.ndarray, epochs=100,\n",
    "              optimizer='momentum', learning_rate=0.001, momentum=0, weight_decay=0, patience=15, verbose=2):\n",
    "        # train a model\n",
    "\n",
    "        loss_fn = CrossEntropyLoss # set loss function\n",
    "        batch_size = 32 # set batch size\n",
    "        n_batch = int(np.ceil(x_train.shape[0]/batch_size)) # calculate a number of batches\n",
    "\n",
    "        # set a optimizer according to input\n",
    "        if optimizer == 'momentum':\n",
    "            optimizer = Momentum(model=self, learning_rate=learning_rate, momentum=momentum)\n",
    "        elif optimizer == 'adam':\n",
    "            optimizer = Adam(model=self, learning_rate=learning_rate)\n",
    "        else:\n",
    "            optimizer = SGD(model=self, learning_rate=learning_rate)\n",
    "\n",
    "        # initialize values for training\n",
    "        patience_cnt = 0\n",
    "        best_train_loss = 9999\n",
    "        best_train_acc = 0\n",
    "        best_valid_loss = 9999\n",
    "        best_valid_acc = 0\n",
    "        best_epoch = 0\n",
    "\n",
    "        for epoch in range(1, epochs+1):\n",
    "\n",
    "            loss_sum = 0    # use to calculate total loss, loss = loss_sum / batch_size\n",
    "            match_cnt = 0   # use to calculate accuracy, accuracy = match_cnt / # of total\n",
    "\n",
    "            for x_batch, y_batch in iterate_mini_batch(x_train, y_train, batch_size, shuffle=True):\n",
    "\n",
    "                y_hat = self.forward(x_batch, train_flag=True) # forward\n",
    "                loss = loss_fn(self, y_hat, y_batch) # loss\n",
    "                loss_sum += loss.get_loss() # add loss\n",
    "                match_cnt += np.sum((y_hat.argmax(1)==y_batch)) # add a number of correct y_hat\n",
    "                loss.backward() # backward\n",
    "\n",
    "                optimizer.step() # update parameters\n",
    "                optimizer.zero_grad() # initialize gradients\n",
    "\n",
    "            # stop if the model does not get better, compare to validation\n",
    "            y_hat_valid = self.predict(x_valid) # predict using validation data set\n",
    "\n",
    "            # calculate current loss and accuracy of train and validation\n",
    "            curr_train_loss = loss_sum / n_batch\n",
    "            curr_train_acc = match_cnt / y_train.shape[0]\n",
    "            curr_valid_loss = loss_fn(self, y_hat_valid, y_valid).get_loss()\n",
    "            curr_valid_acc = np.mean(y_hat_valid.argmax(1)==y_valid)\n",
    "\n",
    "            if curr_valid_loss >= best_valid_loss:\n",
    "                # if the loss increases (the models' performance decreases)\n",
    "                patience_cnt += 1\n",
    "\n",
    "                if patience_cnt > patience:\n",
    "                    # if the performance does not improve for some time, early stopping\n",
    "                    if verbose >= 2:\n",
    "                        print('epoch {:}, early stopping'.format(epoch))\n",
    "\n",
    "                    self.load_parameters() # load parameters of the best model\n",
    "                    break\n",
    "\n",
    "            else:\n",
    "                # store information of the best model\n",
    "                best_epoch = epoch\n",
    "                best_train_loss = curr_train_loss\n",
    "                best_train_acc = curr_train_acc\n",
    "                best_valid_loss = curr_valid_loss\n",
    "                best_valid_acc = curr_valid_acc\n",
    "\n",
    "                patience_cnt = 0 # initialize patience count\n",
    "                self.save_parameters() # save parameters of the best model\n",
    "\n",
    "            if verbose >= 2:\n",
    "                # print result of each epoch\n",
    "                print(\"epoch {:}: train_ce_Loss={:.8f}, train_acc={:.8f}, valid_ce_loss={:.8f}, valid_acc={:.8f}, patience={:}\".format(epoch, curr_train_loss, curr_train_acc, curr_valid_loss, curr_valid_acc, patience_cnt))\n",
    "\n",
    "        if verbose >= 1:\n",
    "            # print result of the best epoch\n",
    "            print('best at epoch {:}, train_loss: {:.8f}, train_acc: {:.8f}, valid_loss: {:.8f}, valid_acc: {:.8f}'.format(best_epoch, best_train_loss, best_train_acc, best_valid_loss, best_valid_acc))\n",
    "\n",
    "    def predict(self, x):\n",
    "        # make a prediction\n",
    "        if not isinstance(x, np.ndarray):\n",
    "            raise RuntimeError(\"input x must be a numpy array\")\n",
    "\n",
    "        for i in range(len(self.hidden_layers)):\n",
    "            x = self.hidden_layers[i].forward(x, train_flag=False)\n",
    "\n",
    "        return x\n",
    "\n",
    "    def save_parameters(self):\n",
    "        # save parameters for early stopping\n",
    "        self.parameters = []\n",
    "        for layer in self.hidden_layers:\n",
    "            if isinstance(layer, LinearLayer):\n",
    "                self.parameters.append({'weight': layer.weight, 'bias': layer.bias})\n",
    "            elif isinstance(layer, BatchNormalizationLayer):\n",
    "                self.parameters.append({'gamma': layer.gamma, 'beta': layer.beta, 'running_mu': layer.running_mu, 'running_var': layer.running_var})\n",
    "            else:\n",
    "                self.parameters.append(None)\n",
    "\n",
    "    def load_parameters(self):\n",
    "        # load parameters for early stopping\n",
    "        for idx, layer in enumerate(self.hidden_layers):\n",
    "            if isinstance(layer, LinearLayer):\n",
    "                layer.weight = self.parameters[idx]['weight']\n",
    "                layer.bias = self.parameters[idx]['bias']\n",
    "            elif isinstance(layer, BatchNormalizationLayer):\n",
    "                layer.gamma = self.parameters[idx]['gamma']\n",
    "                layer.beta = self.parameters[idx]['beta']\n",
    "                layer.running_mu = self.parameters[idx]['running_mu']\n",
    "                layer.running_var = self.parameters[idx]['running_var']\n"
   ],
   "metadata": {
    "collapsed": false,
    "pycharm": {
     "name": "#%%\n"
    }
   }
  },
  {
   "cell_type": "markdown",
   "source": [
    "## Functions for evaluation"
   ],
   "metadata": {
    "collapsed": false,
    "pycharm": {
     "name": "#%% md\n"
    }
   }
  },
  {
   "cell_type": "code",
   "execution_count": 6,
   "outputs": [],
   "source": [
    "def f1_score(actual, predicted, label=1):\n",
    "    # F1 = 2 * (precision * recall) / (precision + recall)\n",
    "\n",
    "    tp = np.sum((actual==label) & (predicted==label))\n",
    "    fp = np.sum((actual!=label) & (predicted==label))\n",
    "    fn = np.sum((predicted!=label) & (actual==label))\n",
    "\n",
    "    precision = tp/(tp+fp)\n",
    "    recall = tp/(tp+fn)\n",
    "    f1 = 2 * (precision * recall) / (precision + recall)\n",
    "    return f1"
   ],
   "metadata": {
    "collapsed": false,
    "pycharm": {
     "name": "#%%\n"
    }
   }
  },
  {
   "cell_type": "markdown",
   "source": [
    "## Function for mini batch"
   ],
   "metadata": {
    "collapsed": false,
    "pycharm": {
     "name": "#%% md\n"
    }
   }
  },
  {
   "cell_type": "code",
   "execution_count": 7,
   "outputs": [],
   "source": [
    "def iterate_mini_batch(x, y, batch_size, shuffle=True, replace=False):\n",
    "    assert x.shape[0] == y.shape[0]\n",
    "\n",
    "    if shuffle:\n",
    "\n",
    "        if replace:\n",
    "            # Randomly choose and allow replacement\n",
    "            for i in range(0, x.shape[0], batch_size):\n",
    "                idx_rand = np.random.choice(x.shape[0], min(batch_size, x.shape[0] - i))\n",
    "                yield x[idx_rand], y[idx_rand]\n",
    "        else:\n",
    "            # Shuffle and do not allow replacement\n",
    "            indexes = np.arange(x.shape[0])\n",
    "            np.random.shuffle(indexes)\n",
    "\n",
    "            for i in range(0, x.shape[0], batch_size):\n",
    "                yield x[indexes[i:min(i+batch_size, x.shape[0])]], y[indexes[i:min(i+batch_size, x.shape[0])]]\n",
    "\n",
    "    else:\n",
    "        # Do not Shuffle\n",
    "        for i in range(0, x.shape[0], batch_size):\n",
    "            yield x[i:min(i+batch_size, x.shape[0])], y[i:min(i+batch_size, x.shape[0])]"
   ],
   "metadata": {
    "collapsed": false,
    "pycharm": {
     "name": "#%%\n"
    }
   }
  },
  {
   "cell_type": "markdown",
   "source": [
    "## Load train and test data\n",
    "#### split train data into train data and validation data (8:2)"
   ],
   "metadata": {
    "collapsed": false,
    "pycharm": {
     "name": "#%% md\n"
    }
   }
  },
  {
   "cell_type": "code",
   "execution_count": 8,
   "outputs": [
    {
     "name": "stdout",
     "output_type": "stream",
     "text": [
      "(40000, 128) (10000, 128) (40000, 1) (10000, 1)\n",
      "(10000, 128) (10000, 1)\n"
     ]
    }
   ],
   "source": [
    "x_train = np.load('./train_data.npy')\n",
    "y_train = np.load('./train_label.npy')\n",
    "x_test = np.load('./test_data.npy')\n",
    "y_test = np.load('./test_label.npy')\n",
    "\n",
    "# split train dataset into train dataset and validation dataset\n",
    "temp_idx = np.random.choice(x_train.shape[0], x_train.shape[0], replace=False)\n",
    "n_valid = int(x_train.shape[0] * 0.2)\n",
    "valid_mask = temp_idx[:n_valid]\n",
    "train_mask = temp_idx[n_valid:]\n",
    "\n",
    "x_valid = x_train[valid_mask]\n",
    "y_valid = y_train[valid_mask]\n",
    "x_train = x_train[train_mask]\n",
    "y_train = y_train[train_mask]\n",
    "\n",
    "# print shapes\n",
    "print(x_train.shape, x_valid.shape, y_train.shape, y_valid.shape)\n",
    "print(x_test.shape, y_test.shape)"
   ],
   "metadata": {
    "collapsed": false,
    "pycharm": {
     "name": "#%%\n"
    }
   }
  },
  {
   "cell_type": "markdown",
   "source": [
    "## Train MLP model"
   ],
   "metadata": {
    "collapsed": false,
    "pycharm": {
     "name": "#%% md\n"
    }
   }
  },
  {
   "cell_type": "code",
   "execution_count": 66,
   "outputs": [
    {
     "name": "stdout",
     "output_type": "stream",
     "text": [
      "epoch 1: train_ce_Loss=1.78030438, train_acc=0.36427500, valid_ce_loss=1.57418531, valid_acc=0.43720000, patience=0\n",
      "epoch 2: train_ce_Loss=1.58819032, train_acc=0.43177500, valid_ce_loss=1.49684896, valid_acc=0.46460000, patience=0\n",
      "epoch 3: train_ce_Loss=1.51411331, train_acc=0.45680000, valid_ce_loss=1.46151445, valid_acc=0.47920000, patience=0\n",
      "epoch 4: train_ce_Loss=1.46012993, train_acc=0.47705000, valid_ce_loss=1.41184916, valid_acc=0.49700000, patience=0\n",
      "epoch 5: train_ce_Loss=1.42103871, train_acc=0.49315000, valid_ce_loss=1.39833727, valid_acc=0.49970000, patience=0\n",
      "epoch 6: train_ce_Loss=1.38846434, train_acc=0.50315000, valid_ce_loss=1.38279185, valid_acc=0.50860000, patience=0\n",
      "epoch 7: train_ce_Loss=1.36023622, train_acc=0.51087500, valid_ce_loss=1.35358725, valid_acc=0.51910000, patience=0\n",
      "epoch 8: train_ce_Loss=1.33386325, train_acc=0.52437500, valid_ce_loss=1.35372047, valid_acc=0.52000000, patience=1\n",
      "epoch 9: train_ce_Loss=1.31627327, train_acc=0.53192500, valid_ce_loss=1.33395885, valid_acc=0.52500000, patience=0\n",
      "epoch 10: train_ce_Loss=1.29413815, train_acc=0.53797500, valid_ce_loss=1.32893234, valid_acc=0.52600000, patience=0\n",
      "epoch 11: train_ce_Loss=1.27815248, train_acc=0.54207500, valid_ce_loss=1.33235832, valid_acc=0.52510000, patience=1\n",
      "epoch 12: train_ce_Loss=1.25972723, train_acc=0.55070000, valid_ce_loss=1.30302092, valid_acc=0.53440000, patience=0\n",
      "epoch 13: train_ce_Loss=1.24621949, train_acc=0.55582500, valid_ce_loss=1.31868615, valid_acc=0.52630000, patience=1\n",
      "epoch 14: train_ce_Loss=1.23315633, train_acc=0.55927500, valid_ce_loss=1.29897864, valid_acc=0.53730000, patience=0\n",
      "epoch 15: train_ce_Loss=1.21839159, train_acc=0.56252500, valid_ce_loss=1.30162666, valid_acc=0.53480000, patience=1\n",
      "epoch 16: train_ce_Loss=1.20791196, train_acc=0.57255000, valid_ce_loss=1.29915261, valid_acc=0.54210000, patience=2\n",
      "epoch 17: train_ce_Loss=1.19744558, train_acc=0.57250000, valid_ce_loss=1.29081185, valid_acc=0.54010000, patience=0\n",
      "epoch 18: train_ce_Loss=1.18691317, train_acc=0.57410000, valid_ce_loss=1.28918729, valid_acc=0.54070000, patience=0\n",
      "epoch 19: train_ce_Loss=1.18195284, train_acc=0.57772500, valid_ce_loss=1.28373202, valid_acc=0.54090000, patience=0\n",
      "epoch 20: train_ce_Loss=1.16010109, train_acc=0.58442500, valid_ce_loss=1.28736216, valid_acc=0.53940000, patience=1\n",
      "epoch 21: train_ce_Loss=1.15799047, train_acc=0.58575000, valid_ce_loss=1.29722632, valid_acc=0.53390000, patience=2\n",
      "epoch 22: train_ce_Loss=1.14194707, train_acc=0.59450000, valid_ce_loss=1.28664944, valid_acc=0.54190000, patience=3\n",
      "epoch 23: train_ce_Loss=1.13796168, train_acc=0.59262500, valid_ce_loss=1.28084306, valid_acc=0.54460000, patience=0\n",
      "epoch 24: train_ce_Loss=1.13212048, train_acc=0.59435000, valid_ce_loss=1.28122581, valid_acc=0.54190000, patience=1\n",
      "epoch 25: train_ce_Loss=1.12214802, train_acc=0.59772500, valid_ce_loss=1.30518840, valid_acc=0.53250000, patience=2\n",
      "epoch 26: train_ce_Loss=1.12240908, train_acc=0.59965000, valid_ce_loss=1.28528371, valid_acc=0.54170000, patience=3\n",
      "epoch 27: train_ce_Loss=1.10777725, train_acc=0.60275000, valid_ce_loss=1.27592180, valid_acc=0.54740000, patience=0\n",
      "epoch 28: train_ce_Loss=1.10087986, train_acc=0.60762500, valid_ce_loss=1.28243147, valid_acc=0.53840000, patience=1\n",
      "epoch 29: train_ce_Loss=1.09424432, train_acc=0.60765000, valid_ce_loss=1.28251077, valid_acc=0.54310000, patience=2\n",
      "epoch 30: train_ce_Loss=1.08854504, train_acc=0.60930000, valid_ce_loss=1.28296013, valid_acc=0.54270000, patience=3\n",
      "epoch 31: train_ce_Loss=1.08694918, train_acc=0.61245000, valid_ce_loss=1.28235853, valid_acc=0.54070000, patience=4\n",
      "epoch 32: train_ce_Loss=1.07462589, train_acc=0.61512500, valid_ce_loss=1.29164436, valid_acc=0.53840000, patience=5\n",
      "epoch 33: train_ce_Loss=1.07813455, train_acc=0.61520000, valid_ce_loss=1.28752177, valid_acc=0.54400000, patience=6\n",
      "epoch 34: train_ce_Loss=1.06994292, train_acc=0.61820000, valid_ce_loss=1.28499568, valid_acc=0.54760000, patience=7\n",
      "epoch 35: train_ce_Loss=1.06121740, train_acc=0.61877500, valid_ce_loss=1.27869733, valid_acc=0.54930000, patience=8\n",
      "epoch 36: train_ce_Loss=1.05935623, train_acc=0.61975000, valid_ce_loss=1.28539856, valid_acc=0.54670000, patience=9\n",
      "epoch 37: train_ce_Loss=1.04758452, train_acc=0.62402500, valid_ce_loss=1.28178156, valid_acc=0.54440000, patience=10\n",
      "epoch 38: train_ce_Loss=1.04785630, train_acc=0.62290000, valid_ce_loss=1.28509093, valid_acc=0.54580000, patience=11\n",
      "epoch 39: train_ce_Loss=1.04026924, train_acc=0.62475000, valid_ce_loss=1.30335381, valid_acc=0.53790000, patience=12\n",
      "epoch 40: train_ce_Loss=1.03874580, train_acc=0.62767500, valid_ce_loss=1.27922336, valid_acc=0.54900000, patience=13\n",
      "epoch 41: train_ce_Loss=1.02763374, train_acc=0.62895000, valid_ce_loss=1.28296374, valid_acc=0.54870000, patience=14\n",
      "epoch 42: train_ce_Loss=1.03046567, train_acc=0.63025000, valid_ce_loss=1.28022234, valid_acc=0.54720000, patience=15\n",
      "epoch 43, early stopping\n",
      "best at epoch 27, train_loss: 1.10777725, train_acc: 0.60275000, valid_loss: 1.27592180, valid_acc: 0.54740000\n"
     ]
    }
   ],
   "source": [
    "# create a model\n",
    "myMLP = MLP(layers=[LinearLayer(128,200),\n",
    "                    BatchNormalizationLayer(200),\n",
    "                    ReLULayer(),\n",
    "                    DropOutLayer(dropout_ratio=0.1),\n",
    "                    LinearLayer(200,200),\n",
    "                    BatchNormalizationLayer(200),\n",
    "                    ReLULayer(),\n",
    "                    DropOutLayer(dropout_ratio=0.1),\n",
    "                    LinearLayer(200,10),\n",
    "                    SoftMaxLayer()])\n",
    "\n",
    "# train the model\n",
    "myMLP.train(x_train=x_train, y_train=y_train.flatten(), x_valid=x_valid, y_valid=y_valid.flatten(),\n",
    "            epochs=1000, optimizer=\"momentum\", learning_rate=0.1, momentum=0.9, weight_decay=0.1)"
   ],
   "metadata": {
    "collapsed": false,
    "pycharm": {
     "name": "#%%\n"
    }
   }
  },
  {
   "cell_type": "code",
   "execution_count": 67,
   "outputs": [
    {
     "name": "stdout",
     "output_type": "stream",
     "text": [
      "loss: 1.2891, accuracy: 0.5420, f1: 0.6680\n"
     ]
    }
   ],
   "source": [
    "# predict on test dataset and print result\n",
    "pred = myMLP.predict(x_test)\n",
    "print('loss: {:.4f}, accuracy: {:.4f}, f1: {:.4f}'.format(\n",
    "    CrossEntropyLoss(myMLP, pred, y_test.flatten()).get_loss(),\n",
    "    np.mean(pred.argmax(1) == y_test.flatten()),\n",
    "    f1_score(y_test.flatten(), pred.argmax(1))))"
   ],
   "metadata": {
    "collapsed": false,
    "pycharm": {
     "name": "#%%\n"
    }
   }
  },
  {
   "cell_type": "markdown",
   "source": [
    "## Experiments\n",
    "### Warning: The following code takes a long time to run"
   ],
   "metadata": {
    "collapsed": false,
    "pycharm": {
     "name": "#%% md\n"
    }
   }
  },
  {
   "cell_type": "markdown",
   "source": [
    "## Searching for the optimal MLP architecture\n",
    "#### 1. Different number of neurons"
   ],
   "metadata": {
    "collapsed": false,
    "pycharm": {
     "name": "#%% md\n"
    }
   }
  },
  {
   "cell_type": "code",
   "execution_count": 25,
   "outputs": [
    {
     "name": "stdout",
     "output_type": "stream",
     "text": [
      "[128-50-50-10]\n",
      "best at epoch 93, train_loss: 1.36874872, train_acc: 0.50667500, valid_loss: 1.34429592, valid_acc: 0.52430000\n",
      "[128-100-100-10]\n",
      "best at epoch 68, train_loss: 1.19858079, train_acc: 0.56980000, valid_loss: 1.27936960, valid_acc: 0.54660000\n",
      "[128-150-150-10]\n",
      "best at epoch 50, train_loss: 1.10731402, train_acc: 0.60232500, valid_loss: 1.27618181, valid_acc: 0.55440000\n",
      "[128-200-200-10]\n",
      "best at epoch 34, train_loss: 1.07234161, train_acc: 0.61500000, valid_loss: 1.26760972, valid_acc: 0.55590000\n",
      "[128-250-250-10]\n",
      "best at epoch 23, train_loss: 1.07849405, train_acc: 0.61267500, valid_loss: 1.27001133, valid_acc: 0.55060000\n",
      "[128-300-300-10]\n",
      "best at epoch 16, train_loss: 1.10981149, train_acc: 0.60477500, valid_loss: 1.27006248, valid_acc: 0.54830000\n",
      "[128-350-350-10]\n",
      "best at epoch 17, train_loss: 1.04802637, train_acc: 0.62937500, valid_loss: 1.27638201, valid_acc: 0.54780000\n",
      "[128-400-400-10]\n",
      "best at epoch 17, train_loss: 1.01199929, train_acc: 0.63847500, valid_loss: 1.27438930, valid_acc: 0.55240000\n"
     ]
    }
   ],
   "source": [
    "# determine layers with different numbers of neurons (50, 100, 150, 200, 250, 300, 350, 400)\n",
    "layers_dict_list1 = [\n",
    "    {\n",
    "        'name': '128-50-50-10',\n",
    "        'layers': [\n",
    "            LinearLayer(128,50),\n",
    "            BatchNormalizationLayer(50),\n",
    "            ReLULayer(),\n",
    "            DropOutLayer(dropout_ratio=0.1),\n",
    "            LinearLayer(50,50),\n",
    "            BatchNormalizationLayer(50),\n",
    "            ReLULayer(),\n",
    "            DropOutLayer(dropout_ratio=0.1),\n",
    "            LinearLayer(50,10),\n",
    "            SoftMaxLayer()\n",
    "        ]\n",
    "    },\n",
    "\n",
    "    {\n",
    "        'name': '128-100-100-10',\n",
    "        'layers': [\n",
    "            LinearLayer(128,100),\n",
    "            BatchNormalizationLayer(100),\n",
    "            ReLULayer(),\n",
    "            DropOutLayer(dropout_ratio=0.1),\n",
    "            LinearLayer(100,100),\n",
    "            BatchNormalizationLayer(100),\n",
    "            ReLULayer(),\n",
    "            DropOutLayer(dropout_ratio=0.1),\n",
    "            LinearLayer(100,10),\n",
    "            SoftMaxLayer()\n",
    "        ]\n",
    "    },\n",
    "\n",
    "    {\n",
    "        'name': '128-150-150-10',\n",
    "        'layers': [\n",
    "            LinearLayer(128,150),\n",
    "            BatchNormalizationLayer(150),\n",
    "            ReLULayer(),\n",
    "            DropOutLayer(dropout_ratio=0.1),\n",
    "            LinearLayer(150,150),\n",
    "            BatchNormalizationLayer(150),\n",
    "            ReLULayer(),\n",
    "            DropOutLayer(dropout_ratio=0.1),\n",
    "            LinearLayer(150,10),\n",
    "            SoftMaxLayer()\n",
    "        ]\n",
    "    },\n",
    "\n",
    "    {\n",
    "        'name': '128-200-200-10',\n",
    "        'layers': [\n",
    "            # 128-200-200-10\n",
    "            LinearLayer(128,200),\n",
    "            BatchNormalizationLayer(200),\n",
    "            ReLULayer(),\n",
    "            DropOutLayer(dropout_ratio=0.1),\n",
    "            LinearLayer(200,200),\n",
    "            BatchNormalizationLayer(200),\n",
    "            ReLULayer(),\n",
    "            DropOutLayer(dropout_ratio=0.1),\n",
    "            LinearLayer(200,10),\n",
    "            SoftMaxLayer()\n",
    "        ]\n",
    "    },\n",
    "\n",
    "    {\n",
    "        'name': '128-250-250-10',\n",
    "        'layers': [\n",
    "            LinearLayer(128,250),\n",
    "            BatchNormalizationLayer(250),\n",
    "            ReLULayer(),\n",
    "            DropOutLayer(dropout_ratio=0.1),\n",
    "            LinearLayer(250,250),\n",
    "            BatchNormalizationLayer(250),\n",
    "            ReLULayer(),\n",
    "            DropOutLayer(dropout_ratio=0.1),\n",
    "            LinearLayer(250,10),\n",
    "            SoftMaxLayer()\n",
    "        ]\n",
    "    },\n",
    "\n",
    "    {\n",
    "        'name': '128-300-300-10',\n",
    "        'layers': [\n",
    "            LinearLayer(128,300),\n",
    "            BatchNormalizationLayer(300),\n",
    "            ReLULayer(),\n",
    "            DropOutLayer(dropout_ratio=0.1),\n",
    "            LinearLayer(300,300),\n",
    "            BatchNormalizationLayer(300),\n",
    "            ReLULayer(),\n",
    "            DropOutLayer(dropout_ratio=0.1),\n",
    "            LinearLayer(300,10),\n",
    "            SoftMaxLayer()\n",
    "        ]\n",
    "    },\n",
    "\n",
    "    {\n",
    "        'name': '128-350-350-10',\n",
    "        'layers': [\n",
    "            LinearLayer(128,350),\n",
    "            BatchNormalizationLayer(350),\n",
    "            ReLULayer(),\n",
    "            DropOutLayer(dropout_ratio=0.1),\n",
    "            LinearLayer(350,350),\n",
    "            BatchNormalizationLayer(350),\n",
    "            ReLULayer(),\n",
    "            DropOutLayer(dropout_ratio=0.1),\n",
    "            LinearLayer(350,10),\n",
    "            SoftMaxLayer()\n",
    "        ]\n",
    "    },\n",
    "\n",
    "    {\n",
    "        'name': '128-400-400-10',\n",
    "        'layers': [\n",
    "            LinearLayer(128,400),\n",
    "            BatchNormalizationLayer(400),\n",
    "            ReLULayer(),\n",
    "            DropOutLayer(dropout_ratio=0.1),\n",
    "            LinearLayer(400,400),\n",
    "            BatchNormalizationLayer(400),\n",
    "            ReLULayer(),\n",
    "            DropOutLayer(dropout_ratio=0.1),\n",
    "            LinearLayer(400,10),\n",
    "            SoftMaxLayer()\n",
    "        ]\n",
    "    },\n",
    "]\n",
    "\n",
    "results_diff_n_neurons= []\n",
    "models_diff_n_neurons= []\n",
    "\n",
    "for layers_dict in layers_dict_list1:\n",
    "    # print name of model (e.g. 128-150-150-10)\n",
    "    print('[{:}]'.format(layers_dict['name']))\n",
    "\n",
    "    # create and store a model\n",
    "    models_diff_n_neurons.append({\n",
    "        'name': layers_dict['name'],\n",
    "        'model': MLP(layers=layers_dict['layers'])})\n",
    "\n",
    "    # train a model\n",
    "    models_diff_n_neurons[-1]['model'].train(x_train=x_train, y_train=y_train.flatten(), x_valid=x_valid, y_valid=y_valid.flatten(), epochs=500,\n",
    "                                             optimizer=\"momentum\", learning_rate=0.1, momentum=0.9, weight_decay=0.1, patience=15, verbose=1)\n",
    "\n",
    "    # make a prediction on test dataset and store result\n",
    "    pred = models_diff_n_neurons[-1]['model'].predict(x_test)\n",
    "    results_diff_n_neurons.append({'name': layers_dict['name'],\n",
    "                    'loss': CrossEntropyLoss(models_diff_n_neurons[-1]['model'], pred, y_test.flatten()).get_loss(),\n",
    "                    'accuracy': np.mean(pred.argmax(1) == y_test.flatten()),\n",
    "                    'f1_score': f1_score(y_test.flatten(), pred.argmax(1))})"
   ],
   "metadata": {
    "collapsed": false,
    "pycharm": {
     "name": "#%%\n"
    }
   }
  },
  {
   "cell_type": "code",
   "execution_count": 37,
   "outputs": [
    {
     "name": "stdout",
     "output_type": "stream",
     "text": [
      "{'name': '128-50-50-10', 'loss': 1.3346713292009749, 'accuracy': 0.5274, 'f1_score': 0.6465645081562036}\n",
      "{'name': '128-100-100-10', 'loss': 1.2831635623496582, 'accuracy': 0.5391, 'f1_score': 0.6507936507936508}\n",
      "{'name': '128-150-150-10', 'loss': 1.2730233808521694, 'accuracy': 0.5479, 'f1_score': 0.6414300736067299}\n",
      "{'name': '128-200-200-10', 'loss': 1.2701539481806077, 'accuracy': 0.5491, 'f1_score': 0.670020120724346}\n",
      "{'name': '128-250-250-10', 'loss': 1.2786960560180933, 'accuracy': 0.5437, 'f1_score': 0.6633515663848832}\n",
      "{'name': '128-300-300-10', 'loss': 1.3081145260772664, 'accuracy': 0.5377, 'f1_score': 0.6698666666666667}\n",
      "{'name': '128-350-350-10', 'loss': 1.3156047511834421, 'accuracy': 0.5362, 'f1_score': 0.6519916142557652}\n",
      "{'name': '128-400-400-10', 'loss': 1.3238437995050167, 'accuracy': 0.5293, 'f1_score': 0.6333333333333333}\n"
     ]
    }
   ],
   "source": [
    "for result in results_diff_n_neurons:\n",
    "    print(result)"
   ],
   "metadata": {
    "collapsed": false,
    "pycharm": {
     "name": "#%%\n"
    }
   }
  },
  {
   "cell_type": "code",
   "execution_count": 33,
   "outputs": [
    {
     "data": {
      "text/plain": "<Axes: xlabel='number of neurons', ylabel='scores'>"
     },
     "execution_count": 33,
     "metadata": {},
     "output_type": "execute_result"
    },
    {
     "data": {
      "text/plain": "<Figure size 640x480 with 1 Axes>",
      "image/png": "[encoded data removed]"
     },
     "metadata": {},
     "output_type": "display_data"
    }
   ],
   "source": [
    "# plot changes in F1 score and accuracy according to the number of neurons.\n",
    "n_layers = []\n",
    "scores = []\n",
    "metrics= []\n",
    "for idx, result in enumerate(results_diff_n_neurons):\n",
    "    n_layers.append(result['name'].split('-')[1])\n",
    "    scores.append(result['f1_score'])\n",
    "    metrics.append('F1_score')\n",
    "    n_layers.append(result['name'].split('-')[1])\n",
    "    scores.append(result['accuracy'])\n",
    "    metrics.append('Accuracy')\n",
    "\n",
    "df_layers = pd.DataFrame({'number of neurons': n_layers, 'scores': scores, 'metrics': metrics})\n",
    "sns.lineplot(data=df_layers, x='number of neurons', y='scores', hue='metrics')"
   ],
   "metadata": {
    "collapsed": false,
    "pycharm": {
     "name": "#%%\n"
    }
   }
  },
  {
   "cell_type": "markdown",
   "source": [
    "#### 2. Different number of hidden layers"
   ],
   "metadata": {
    "collapsed": false,
    "pycharm": {
     "name": "#%% md\n"
    }
   }
  },
  {
   "cell_type": "code",
   "execution_count": 27,
   "outputs": [
    {
     "name": "stdout",
     "output_type": "stream",
     "text": [
      "[128-50-50-10]\n",
      "best at epoch 68, train_loss: 1.38570720, train_acc: 0.49952500, valid_loss: 1.35386564, valid_acc: 0.51300000\n",
      "[128-50-50-50-10]\n",
      "best at epoch 87, train_loss: 1.38891495, train_acc: 0.50525000, valid_loss: 1.35718972, valid_acc: 0.52050000\n",
      "[128-50-50-50-50-10]\n",
      "best at epoch 85, train_loss: 1.41132508, train_acc: 0.49802500, valid_loss: 1.38252132, valid_acc: 0.51540000\n",
      "[128-50-50-50-50-50-10]\n",
      "best at epoch 112, train_loss: 1.40741412, train_acc: 0.50350000, valid_loss: 1.39119061, valid_acc: 0.51870000\n",
      "[128-50-50-50-50-50-10]\n",
      "best at epoch 91, train_loss: 1.44020696, train_acc: 0.49257500, valid_loss: 1.43438977, valid_acc: 0.51010000\n"
     ]
    }
   ],
   "source": [
    "# determine layers with different numbers of hidden layers (2, 3, 4, 5, 6)\n",
    "layers_dict_list2 = [\n",
    "    {\n",
    "        'name': '128-50-50-10',\n",
    "        'layers': [\n",
    "            LinearLayer(128,50),\n",
    "            BatchNormalizationLayer(50),\n",
    "            ReLULayer(),\n",
    "            DropOutLayer(dropout_ratio=0.1),\n",
    "            LinearLayer(50,50),\n",
    "            BatchNormalizationLayer(50),\n",
    "            ReLULayer(),\n",
    "            DropOutLayer(dropout_ratio=0.1),\n",
    "            LinearLayer(50,10),\n",
    "            SoftMaxLayer()\n",
    "        ]\n",
    "    },\n",
    "    {\n",
    "        'name': '128-50-50-50-10',\n",
    "        'layers': [\n",
    "            LinearLayer(128,50),\n",
    "            BatchNormalizationLayer(50),\n",
    "            ReLULayer(),\n",
    "            DropOutLayer(dropout_ratio=0.1),\n",
    "            LinearLayer(50,50),\n",
    "            BatchNormalizationLayer(50),\n",
    "            ReLULayer(),\n",
    "            DropOutLayer(dropout_ratio=0.1),\n",
    "            LinearLayer(50,50),\n",
    "            BatchNormalizationLayer(50),\n",
    "            ReLULayer(),\n",
    "            DropOutLayer(dropout_ratio=0.1),\n",
    "            LinearLayer(50,10),\n",
    "            SoftMaxLayer()\n",
    "        ]\n",
    "    },\n",
    "    {\n",
    "        'name': '128-50-50-50-50-10',\n",
    "        'layers': [\n",
    "            LinearLayer(128,50),\n",
    "            BatchNormalizationLayer(50),\n",
    "            ReLULayer(),\n",
    "            DropOutLayer(dropout_ratio=0.1),\n",
    "            LinearLayer(50,50),\n",
    "            BatchNormalizationLayer(50),\n",
    "            ReLULayer(),\n",
    "            DropOutLayer(dropout_ratio=0.1),\n",
    "            LinearLayer(50,50),\n",
    "            BatchNormalizationLayer(50),\n",
    "            ReLULayer(),\n",
    "            DropOutLayer(dropout_ratio=0.1),\n",
    "            LinearLayer(50,50),\n",
    "            BatchNormalizationLayer(50),\n",
    "            ReLULayer(),\n",
    "            DropOutLayer(dropout_ratio=0.1),\n",
    "            LinearLayer(50,10),\n",
    "            SoftMaxLayer()\n",
    "        ]\n",
    "    },\n",
    "    {\n",
    "        'name': '128-50-50-50-50-50-10',\n",
    "        'layers': [\n",
    "            LinearLayer(128,50),\n",
    "            BatchNormalizationLayer(50),\n",
    "            ReLULayer(),\n",
    "            DropOutLayer(dropout_ratio=0.1),\n",
    "            LinearLayer(50,50),\n",
    "            BatchNormalizationLayer(50),\n",
    "            ReLULayer(),\n",
    "            DropOutLayer(dropout_ratio=0.1),\n",
    "            LinearLayer(50,50),\n",
    "            BatchNormalizationLayer(50),\n",
    "            ReLULayer(),\n",
    "            DropOutLayer(dropout_ratio=0.1),\n",
    "            LinearLayer(50,50),\n",
    "            BatchNormalizationLayer(50),\n",
    "            ReLULayer(),\n",
    "            DropOutLayer(dropout_ratio=0.1),\n",
    "            LinearLayer(50,50),\n",
    "            BatchNormalizationLayer(50),\n",
    "            ReLULayer(),\n",
    "            DropOutLayer(dropout_ratio=0.1),\n",
    "            LinearLayer(50,10),\n",
    "            SoftMaxLayer()\n",
    "        ]\n",
    "    },\n",
    "    {\n",
    "        'name': '128-50-50-50-50-50-10',\n",
    "        'layers': [\n",
    "            LinearLayer(128,50),\n",
    "            BatchNormalizationLayer(50),\n",
    "            ReLULayer(),\n",
    "            DropOutLayer(dropout_ratio=0.1),\n",
    "            LinearLayer(50,50),\n",
    "            BatchNormalizationLayer(50),\n",
    "            ReLULayer(),\n",
    "            DropOutLayer(dropout_ratio=0.1),\n",
    "            LinearLayer(50,50),\n",
    "            BatchNormalizationLayer(50),\n",
    "            ReLULayer(),\n",
    "            DropOutLayer(dropout_ratio=0.1),\n",
    "            LinearLayer(50,50),\n",
    "            BatchNormalizationLayer(50),\n",
    "            ReLULayer(),\n",
    "            DropOutLayer(dropout_ratio=0.1),\n",
    "            LinearLayer(50,50),\n",
    "            BatchNormalizationLayer(50),\n",
    "            ReLULayer(),\n",
    "            DropOutLayer(dropout_ratio=0.1),\n",
    "            LinearLayer(50,50),\n",
    "            BatchNormalizationLayer(50),\n",
    "            ReLULayer(),\n",
    "            DropOutLayer(dropout_ratio=0.1),\n",
    "            LinearLayer(50,10),\n",
    "            SoftMaxLayer()\n",
    "        ]\n",
    "    },\n",
    "]\n",
    "\n",
    "results_diff_n_layers = []\n",
    "models_diff_n_layers= []\n",
    "\n",
    "for layers_dict in layers_dict_list2:\n",
    "    # print name of model (e.g. 128-150-150-10)\n",
    "    print('[{:}]'.format(layers_dict['name']))\n",
    "\n",
    "    # create and store a model\n",
    "    models_diff_n_layers.append({\n",
    "        'name': layers_dict['name'],\n",
    "        'model': MLP(layers=layers_dict['layers'])})\n",
    "\n",
    "    # train a model\n",
    "    models_diff_n_layers[-1]['model'].train(x_train=x_train, y_train=y_train.flatten(), x_valid=x_valid, y_valid=y_valid.flatten(), epochs=500,\n",
    "                                optimizer=\"momentum\", learning_rate=0.1, momentum=0.9, weight_decay=0.1, patience=15, verbose=1)\n",
    "\n",
    "    # make a prediction on test dataset and store result\n",
    "    pred = models_diff_n_layers[-1]['model'].predict(x_test)\n",
    "    results_diff_n_layers.append({'name': layers_dict['name'],\n",
    "                    'loss': CrossEntropyLoss(models_diff_n_layers[-1]['model'], pred, y_test.flatten()).get_loss(),\n",
    "                    'accuracy': np.mean(pred.argmax(1) == y_test.flatten()),\n",
    "                    'f1_score': f1_score(y_test.flatten(), pred.argmax(1))})"
   ],
   "metadata": {
    "collapsed": false,
    "pycharm": {
     "name": "#%%\n"
    }
   }
  },
  {
   "cell_type": "code",
   "execution_count": 38,
   "outputs": [
    {
     "name": "stdout",
     "output_type": "stream",
     "text": [
      "{'name': '128-50-50-10', 'loss': 1.3414637226962098, 'accuracy': 0.5278, 'f1_score': 0.6522157996146436}\n",
      "{'name': '128-50-50-50-10', 'loss': 1.3551507780350782, 'accuracy': 0.5203, 'f1_score': 0.6286876907426246}\n",
      "{'name': '128-50-50-50-50-10', 'loss': 1.376153175440409, 'accuracy': 0.5143, 'f1_score': 0.6478048780487805}\n",
      "{'name': '128-50-50-50-50-50-10', 'loss': 1.3860635167513349, 'accuracy': 0.5195, 'f1_score': 0.6204453441295545}\n",
      "{'name': '128-50-50-50-50-50-10', 'loss': 1.4314407377115517, 'accuracy': 0.5086, 'f1_score': 0.6121856866537717}\n"
     ]
    }
   ],
   "source": [
    "for result in results_diff_n_layers:\n",
    "    print(result)"
   ],
   "metadata": {
    "collapsed": false,
    "pycharm": {
     "name": "#%%\n"
    }
   }
  },
  {
   "cell_type": "code",
   "execution_count": 34,
   "outputs": [
    {
     "data": {
      "text/plain": "<Axes: xlabel='number of layers', ylabel='scores'>"
     },
     "execution_count": 34,
     "metadata": {},
     "output_type": "execute_result"
    },
    {
     "data": {
      "text/plain": "<Figure size 640x480 with 1 Axes>",
      "image/png": "[encoded data removed]"
     },
     "metadata": {},
     "output_type": "display_data"
    }
   ],
   "source": [
    "# plot changes in F1 score and accuracy according to the number of hidden layers.\n",
    "n_layers = []\n",
    "scores = []\n",
    "metrics= []\n",
    "for idx, result in enumerate(results_diff_n_layers):\n",
    "    n_layers.append(idx+2)\n",
    "    scores.append(result['f1_score'])\n",
    "    metrics.append('F1_score')\n",
    "    n_layers.append(idx+2)\n",
    "    scores.append(result['accuracy'])\n",
    "    metrics.append('Accuracy')\n",
    "\n",
    "df_layers = pd.DataFrame({'number of layers': n_layers, 'scores': scores, 'metrics': metrics})\n",
    "sns.lineplot(data=df_layers, x='number of layers', y='scores', hue='metrics')"
   ],
   "metadata": {
    "collapsed": false,
    "pycharm": {
     "name": "#%%\n"
    }
   }
  },
  {
   "cell_type": "markdown",
   "source": [
    "#### 3. try different parameters of momentum"
   ],
   "metadata": {
    "collapsed": false,
    "pycharm": {
     "name": "#%% md\n"
    }
   }
  },
  {
   "cell_type": "code",
   "execution_count": 48,
   "outputs": [
    {
     "name": "stdout",
     "output_type": "stream",
     "text": [
      "best at epoch 66, train_loss: 1.51180517, train_acc: 0.45750000, valid_loss: 1.44547687, valid_acc: 0.48450000\n",
      "loss: 1.4319, accuracy: 0.4960, f1: 0.6222\n",
      "best at epoch 123, train_loss: 1.51188287, train_acc: 0.45805000, valid_loss: 1.45539315, valid_acc: 0.48940000\n",
      "loss: 1.4474, accuracy: 0.4882, f1: 0.6053\n",
      "best at epoch 289, train_loss: 1.60494930, train_acc: 0.42397500, valid_loss: 1.54578096, valid_acc: 0.45280000\n",
      "loss: 1.5281, accuracy: 0.4639, f1: 0.5886\n",
      "best at epoch 47, train_loss: 1.51991650, train_acc: 0.45535000, valid_loss: 1.45321684, valid_acc: 0.48060000\n",
      "loss: 1.4306, accuracy: 0.4953, f1: 0.6128\n",
      "best at epoch 62, train_loss: 1.50642401, train_acc: 0.46085000, valid_loss: 1.43961211, valid_acc: 0.49110000\n",
      "loss: 1.4324, accuracy: 0.4920, f1: 0.5838\n",
      "best at epoch 86, train_loss: 1.50411506, train_acc: 0.46252500, valid_loss: 1.43643765, valid_acc: 0.48950000\n",
      "loss: 1.4228, accuracy: 0.4972, f1: 0.6065\n",
      "best at epoch 57, train_loss: 1.51269996, train_acc: 0.45975000, valid_loss: 1.44474583, valid_acc: 0.48500000\n",
      "loss: 1.4326, accuracy: 0.4920, f1: 0.6234\n",
      "best at epoch 30, train_loss: 1.53068877, train_acc: 0.44892500, valid_loss: 1.45448877, valid_acc: 0.48240000\n",
      "loss: 1.4430, accuracy: 0.4896, f1: 0.6253\n",
      "best at epoch 41, train_loss: 1.52150072, train_acc: 0.45355000, valid_loss: 1.45693313, valid_acc: 0.48470000\n",
      "loss: 1.4401, accuracy: 0.4935, f1: 0.6086\n"
     ]
    }
   ],
   "source": [
    "# try different parameters of momentum\n",
    "\n",
    "p_list = [\n",
    "    {'lr': 0.1, 'momentum': 0.9, 'wd': 0.1},\n",
    "    {'lr': 0.01, 'momentum': 0.9, 'wd': 0.1},\n",
    "    {'lr': 0.001, 'momentum': 0.9, 'wd': 0.1},\n",
    "    {'lr': 0.1, 'momentum': 0.1, 'wd': 0.1},\n",
    "    {'lr': 0.1, 'momentum': 0.5, 'wd': 0.1},\n",
    "    {'lr': 0.1, 'momentum': 0.9, 'wd': 0.1},\n",
    "    {'lr': 0.1, 'momentum': 0.9, 'wd': 0.1},\n",
    "    {'lr': 0.1, 'momentum': 0.9, 'wd': 0.25},\n",
    "    {'lr': 0.1, 'momentum': 0.9, 'wd': 0.5},\n",
    "]\n",
    "\n",
    "for p in p_list:\n",
    "    # create a model\n",
    "    myMLP = MLP(layers=[LinearLayer(128,30),\n",
    "                        BatchNormalizationLayer(30),\n",
    "                        ReLULayer(),\n",
    "                        DropOutLayer(dropout_ratio=0.1),\n",
    "                        LinearLayer(30,30),\n",
    "                        BatchNormalizationLayer(30),\n",
    "                        ReLULayer(),\n",
    "                        DropOutLayer(dropout_ratio=0.1),\n",
    "                        LinearLayer(30,10),\n",
    "                        SoftMaxLayer()])\n",
    "\n",
    "    # train the model with different parameters of momentum\n",
    "    myMLP.train(x_train=x_train, y_train=y_train.flatten(), x_valid=x_valid, y_valid=y_valid.flatten(), epochs=500,\n",
    "                optimizer=\"momentum\", learning_rate=p['lr'], momentum=p['momentum'], weight_decay=p['wd'], patience=10, verbose=1)\n",
    "    pred = myMLP.predict(x_test)\n",
    "    print('loss: {:.4f}, accuracy: {:.4f}, f1: {:.4f}'.format(\n",
    "        CrossEntropyLoss(myMLP, pred, y_test.flatten()).get_loss(),\n",
    "        np.mean(pred.argmax(1) == y_test.flatten()),\n",
    "        f1_score(y_test.flatten(), pred.argmax(1))))"
   ],
   "metadata": {
    "collapsed": false,
    "pycharm": {
     "name": "#%%\n"
    }
   }
  },
  {
   "cell_type": "markdown",
   "source": [
    "#### 4. try different values of weight decay"
   ],
   "metadata": {
    "collapsed": false,
    "pycharm": {
     "name": "#%% md\n"
    }
   }
  },
  {
   "cell_type": "code",
   "execution_count": 49,
   "outputs": [
    {
     "name": "stdout",
     "output_type": "stream",
     "text": [
      "best at epoch 44, train_loss: 1.51814892, train_acc: 0.45492500, valid_loss: 1.44297630, valid_acc: 0.48840000\n",
      "loss: 1.4470, accuracy: 0.4872, f1: 0.6161\n"
     ]
    }
   ],
   "source": [
    "# try 0 of weight decay\n",
    "# create a model\n",
    "myMLP = MLP(layers=[LinearLayer(128,30),\n",
    "                    BatchNormalizationLayer(30),\n",
    "                    ReLULayer(),\n",
    "                    DropOutLayer(dropout_ratio=0.1),\n",
    "                    LinearLayer(30,30),\n",
    "                    BatchNormalizationLayer(30),\n",
    "                    ReLULayer(),\n",
    "                    DropOutLayer(dropout_ratio=0.1),\n",
    "                    LinearLayer(30,10),\n",
    "                    SoftMaxLayer()])\n",
    "\n",
    "# train the model with different parameters of momentum\n",
    "myMLP.train(x_train=x_train, y_train=y_train.flatten(), x_valid=x_valid, y_valid=y_valid.flatten(), epochs=500,\n",
    "            optimizer=\"momentum\", learning_rate=0.1, momentum=0.9, weight_decay=0, patience=10, verbose=1)\n",
    "pred = myMLP.predict(x_test)\n",
    "print('loss: {:.4f}, accuracy: {:.4f}, f1: {:.4f}'.format(\n",
    "    CrossEntropyLoss(myMLP, pred, y_test.flatten()).get_loss(),\n",
    "    np.mean(pred.argmax(1) == y_test.flatten()),\n",
    "    f1_score(y_test.flatten(), pred.argmax(1))))"
   ],
   "metadata": {
    "collapsed": false,
    "pycharm": {
     "name": "#%%\n"
    }
   }
  },
  {
   "cell_type": "markdown",
   "source": [
    "#### 5. try different parameters of adam"
   ],
   "metadata": {
    "collapsed": false,
    "pycharm": {
     "name": "#%% md\n"
    }
   }
  },
  {
   "cell_type": "code",
   "execution_count": 57,
   "outputs": [
    {
     "name": "stdout",
     "output_type": "stream",
     "text": [
      "best at epoch 4, train_loss: 1.81796088, train_acc: 0.34867500, valid_loss: 1.68545795, valid_acc: 0.39250000\n",
      "loss: 2.5186, accuracy: 0.1000\n",
      "best at epoch 60, train_loss: 1.62956507, train_acc: 0.42000000, valid_loss: 1.55755919, valid_acc: 0.44710000\n",
      "loss: 1.6576, accuracy: 0.4164\n",
      "best at epoch 248, train_loss: 1.64300820, train_acc: 0.41572500, valid_loss: 1.60350397, valid_acc: 0.43090000\n",
      "loss: 1.5908, accuracy: 0.4387\n",
      "best at epoch 305, train_loss: 1.62948644, train_acc: 0.41580000, valid_loss: 1.58825260, valid_acc: 0.43560000\n",
      "loss: 1.5752, accuracy: 0.4422\n",
      "best at epoch 213, train_loss: 1.66613525, train_acc: 0.40577500, valid_loss: 1.62232557, valid_acc: 0.42040000\n",
      "loss: 1.6154, accuracy: 0.4379\n",
      "best at epoch 225, train_loss: 1.66006643, train_acc: 0.40907500, valid_loss: 1.60776406, valid_acc: 0.43160000\n",
      "loss: 1.5968, accuracy: 0.4429\n",
      "best at epoch 238, train_loss: 1.65300127, train_acc: 0.41027500, valid_loss: 1.61156716, valid_acc: 0.42640000\n",
      "loss: 1.6015, accuracy: 0.4406\n"
     ]
    }
   ],
   "source": [
    "# try different parameters of adam\n",
    "\n",
    "p_list = [\n",
    "    {'lr': 0.1,  'wd': 0.1},\n",
    "    {'lr': 0.01,  'wd': 0.1},\n",
    "    {'lr': 0.001, 'wd': 0.1},\n",
    "    {'lr': 0.001, 'wd': 0},\n",
    "    {'lr': 0.001, 'wd': 0.1},\n",
    "    {'lr': 0.001,  'wd': 0.25},\n",
    "    {'lr': 0.001,  'wd': 0.5},\n",
    "]\n",
    "\n",
    "for p in p_list:\n",
    "    # create a model\n",
    "    myMLP = MLP(layers=[LinearLayer(128,30),\n",
    "                        BatchNormalizationLayer(30),\n",
    "                        ReLULayer(),\n",
    "                        DropOutLayer(dropout_ratio=0.1),\n",
    "                        LinearLayer(30,30),\n",
    "                        BatchNormalizationLayer(30),\n",
    "                        ReLULayer(),\n",
    "                        DropOutLayer(dropout_ratio=0.1),\n",
    "                        LinearLayer(30,10),\n",
    "                        SoftMaxLayer()])\n",
    "\n",
    "    # train the model with different parameters of momentum\n",
    "    myMLP.train(x_train=x_train, y_train=y_train.flatten(), x_valid=x_valid, y_valid=y_valid.flatten(), epochs=500,\n",
    "                optimizer=\"adam\", learning_rate=p['lr'], weight_decay=p['wd'], patience=10, verbose=1)\n",
    "    pred = myMLP.predict(x_test)\n",
    "    print('loss: {:.4f}, accuracy: {:.4f}'.format(\n",
    "        CrossEntropyLoss(myMLP, pred, y_test.flatten()).get_loss(),\n",
    "        np.mean(pred.argmax(1) == y_test.flatten())))"
   ],
   "metadata": {
    "collapsed": false,
    "pycharm": {
     "name": "#%%\n"
    }
   }
  },
  {
   "cell_type": "markdown",
   "source": [
    "#### 6. try a model with batch normalization and other model without batch normalization"
   ],
   "metadata": {
    "collapsed": false,
    "pycharm": {
     "name": "#%% md\n"
    }
   }
  },
  {
   "cell_type": "code",
   "execution_count": 58,
   "outputs": [
    {
     "name": "stdout",
     "output_type": "stream",
     "text": [
      "best at epoch 50, train_loss: 1.54335072, train_acc: 0.44757500, valid_loss: 1.51256092, valid_acc: 0.46790000\n",
      "loss: 1.5059, accuracy: 0.4712\n",
      "best at epoch 82, train_loss: 1.50587403, train_acc: 0.45952500, valid_loss: 1.44595633, valid_acc: 0.48220000\n",
      "loss: 1.4282, accuracy: 0.4981\n"
     ]
    }
   ],
   "source": [
    "# try without batch normalization\n",
    "myMLP = MLP(layers=[LinearLayer(128,30),\n",
    "                    ReLULayer(),\n",
    "                    DropOutLayer(dropout_ratio=0.1),\n",
    "                    LinearLayer(30,30),\n",
    "                    ReLULayer(),\n",
    "                    DropOutLayer(dropout_ratio=0.1),\n",
    "                    LinearLayer(30,10),\n",
    "                    SoftMaxLayer()])\n",
    "\n",
    "# train the model with different parameters of momentum\n",
    "myMLP.train(x_train=x_train, y_train=y_train.flatten(), x_valid=x_valid, y_valid=y_valid.flatten(), epochs=500,\n",
    "            optimizer=\"momentum\", learning_rate=0.1, momentum=0.9, weight_decay=0.1, patience=10, verbose=1)\n",
    "pred = myMLP.predict(x_test)\n",
    "print('loss: {:.4f}, accuracy: {:.4f}'.format(\n",
    "    CrossEntropyLoss(myMLP, pred, y_test.flatten()).get_loss(),\n",
    "    np.mean(pred.argmax(1) == y_test.flatten())))\n",
    "\n",
    "# try with batch normalization\n",
    "myMLP = MLP(layers=[LinearLayer(128,30),\n",
    "                    BatchNormalizationLayer(30),\n",
    "                    ReLULayer(),\n",
    "                    DropOutLayer(dropout_ratio=0.1),\n",
    "                    LinearLayer(30,30),\n",
    "                    BatchNormalizationLayer(30),\n",
    "                    ReLULayer(),\n",
    "                    DropOutLayer(dropout_ratio=0.1),\n",
    "                    LinearLayer(30,10),\n",
    "                    SoftMaxLayer()])\n",
    "\n",
    "# train the model with different parameters of momentum\n",
    "myMLP.train(x_train=x_train, y_train=y_train.flatten(), x_valid=x_valid, y_valid=y_valid.flatten(), epochs=500,\n",
    "            optimizer=\"momentum\", learning_rate=0.1, momentum=0.9, weight_decay=0.1, patience=10, verbose=1)\n",
    "pred = myMLP.predict(x_test)\n",
    "print('loss: {:.4f}, accuracy: {:.4f}'.format(\n",
    "    CrossEntropyLoss(myMLP, pred, y_test.flatten()).get_loss(),\n",
    "    np.mean(pred.argmax(1) == y_test.flatten())))"
   ],
   "metadata": {
    "collapsed": false,
    "pycharm": {
     "name": "#%%\n"
    }
   }
  },
  {
   "cell_type": "markdown",
   "source": [
    "#### 7. try different dropout ratio"
   ],
   "metadata": {
    "collapsed": false,
    "pycharm": {
     "name": "#%% md\n"
    }
   }
  },
  {
   "cell_type": "code",
   "execution_count": 59,
   "outputs": [
    {
     "name": "stdout",
     "output_type": "stream",
     "text": [
      "best at epoch 43, train_loss: 1.37334515, train_acc: 0.50767500, valid_loss: 1.38971632, valid_acc: 0.50630000\n",
      "loss: 1.3956, accuracy: 0.5003\n",
      "best at epoch 21, train_loss: 1.63894332, train_acc: 0.40997500, valid_loss: 1.57728749, valid_acc: 0.45060000\n",
      "loss: 1.5645, accuracy: 0.4637\n",
      "best at epoch 30, train_loss: 1.79409704, train_acc: 0.35412500, valid_loss: 1.83770460, valid_acc: 0.42760000\n",
      "loss: 1.8161, accuracy: 0.4314\n",
      "best at epoch 28, train_loss: 1.95680127, train_acc: 0.27392500, valid_loss: 2.09952925, valid_acc: 0.36300000\n",
      "loss: 2.1097, accuracy: 0.3505\n"
     ]
    }
   ],
   "source": [
    "# try different dropout ratio with the model (2 hidden layers, 30 neurons)\n",
    "ratio_list = [0, 0.1, 0.3, 0.5]\n",
    "\n",
    "for ratio in ratio_list:\n",
    "    # create a model\n",
    "    myMLP = MLP(layers=[LinearLayer(128,30),\n",
    "                        BatchNormalizationLayer(30),\n",
    "                        ReLULayer(),\n",
    "                        DropOutLayer(dropout_ratio=ratio),\n",
    "                        LinearLayer(30,30),\n",
    "                        BatchNormalizationLayer(30),\n",
    "                        ReLULayer(),\n",
    "                        DropOutLayer(dropout_ratio=ratio),\n",
    "                        LinearLayer(30,10),\n",
    "                        SoftMaxLayer()])\n",
    "\n",
    "    # train the model with different parameters of momentum\n",
    "    myMLP.train(x_train=x_train, y_train=y_train.flatten(), x_valid=x_valid, y_valid=y_valid.flatten(), epochs=500,\n",
    "                optimizer=\"momentum\", learning_rate=0.1, momentum=0.9, weight_decay=0.1, patience=10, verbose=1)\n",
    "    pred = myMLP.predict(x_test)\n",
    "    print('loss: {:.4f}, accuracy: {:.4f}'.format(\n",
    "        CrossEntropyLoss(myMLP, pred, y_test.flatten()).get_loss(),\n",
    "        np.mean(pred.argmax(1) == y_test.flatten())))"
   ],
   "metadata": {
    "collapsed": false,
    "pycharm": {
     "name": "#%%\n"
    }
   }
  },
  {
   "cell_type": "code",
   "execution_count": 9,
   "outputs": [
    {
     "name": "stdout",
     "output_type": "stream",
     "text": [
      "best at epoch 8, train_loss: 1.19597432, train_acc: 0.57392500, valid_loss: 1.35794570, valid_acc: 0.52200000\n",
      "loss: 1.3540, accuracy: 0.5282\n",
      "best at epoch 25, train_loss: 1.11739712, train_acc: 0.60110000, valid_loss: 1.28766630, valid_acc: 0.54430000\n",
      "loss: 1.2925, accuracy: 0.5400\n",
      "best at epoch 54, train_loss: 1.24800487, train_acc: 0.55495000, valid_loss: 1.36364978, valid_acc: 0.53720000\n",
      "loss: 1.3632, accuracy: 0.5399\n",
      "best at epoch 90, train_loss: 1.39553125, train_acc: 0.50067500, valid_loss: 1.63874788, valid_acc: 0.50040000\n",
      "loss: 1.6162, accuracy: 0.5085\n"
     ]
    }
   ],
   "source": [
    "# try different dropout ratio with the model (2 hidden layers, 200 neurons)\n",
    "ratio_list = [0, 0.1, 0.3, 0.5]\n",
    "\n",
    "for ratio in ratio_list:\n",
    "    # create a model\n",
    "    myMLP = MLP(layers=[LinearLayer(128,200),\n",
    "                        BatchNormalizationLayer(200),\n",
    "                        ReLULayer(),\n",
    "                        DropOutLayer(dropout_ratio=ratio),\n",
    "                        LinearLayer(200,200),\n",
    "                        BatchNormalizationLayer(200),\n",
    "                        ReLULayer(),\n",
    "                        DropOutLayer(dropout_ratio=ratio),\n",
    "                        LinearLayer(200,10),\n",
    "                        SoftMaxLayer()])\n",
    "\n",
    "    # train the model with different parameters of momentum\n",
    "    myMLP.train(x_train=x_train, y_train=y_train.flatten(), x_valid=x_valid, y_valid=y_valid.flatten(), epochs=500,\n",
    "                optimizer=\"momentum\", learning_rate=0.1, momentum=0.9, weight_decay=0.1, patience=10, verbose=1)\n",
    "    pred = myMLP.predict(x_test)\n",
    "    print('loss: {:.4f}, accuracy: {:.4f}'.format(\n",
    "        CrossEntropyLoss(myMLP, pred, y_test.flatten()).get_loss(),\n",
    "        np.mean(pred.argmax(1) == y_test.flatten())))"
   ],
   "metadata": {
    "collapsed": false,
    "pycharm": {
     "name": "#%%\n"
    }
   }
  },
  {
   "cell_type": "markdown",
   "source": [
    "## Train, predict and evaluate of the best model"
   ],
   "metadata": {
    "collapsed": false,
    "pycharm": {
     "name": "#%% md\n"
    }
   }
  },
  {
   "cell_type": "code",
   "execution_count": 10,
   "outputs": [
    {
     "name": "stdout",
     "output_type": "stream",
     "text": [
      "epoch 1: train_ce_Loss=1.76859950, train_acc=0.37070000, valid_ce_loss=1.58098227, valid_acc=0.43560000, patience=0\n",
      "epoch 2: train_ce_Loss=1.58502643, train_acc=0.43325000, valid_ce_loss=1.50679064, valid_acc=0.46310000, patience=0\n",
      "epoch 3: train_ce_Loss=1.50223733, train_acc=0.46350000, valid_ce_loss=1.45310727, valid_acc=0.47860000, patience=0\n",
      "epoch 4: train_ce_Loss=1.45982771, train_acc=0.47697500, valid_ce_loss=1.43357981, valid_acc=0.48270000, patience=0\n",
      "epoch 5: train_ce_Loss=1.41224673, train_acc=0.49727500, valid_ce_loss=1.40272334, valid_acc=0.49590000, patience=0\n",
      "epoch 6: train_ce_Loss=1.38514057, train_acc=0.50522500, valid_ce_loss=1.38428047, valid_acc=0.50350000, patience=0\n",
      "epoch 7: train_ce_Loss=1.35435459, train_acc=0.51637500, valid_ce_loss=1.36221030, valid_acc=0.51340000, patience=0\n",
      "epoch 8: train_ce_Loss=1.33311922, train_acc=0.52247500, valid_ce_loss=1.35606473, valid_acc=0.51900000, patience=0\n",
      "epoch 9: train_ce_Loss=1.31279698, train_acc=0.52925000, valid_ce_loss=1.34068678, valid_acc=0.51940000, patience=0\n",
      "epoch 10: train_ce_Loss=1.29356987, train_acc=0.53675000, valid_ce_loss=1.33804374, valid_acc=0.52050000, patience=0\n",
      "epoch 11: train_ce_Loss=1.28020987, train_acc=0.54412500, valid_ce_loss=1.32275867, valid_acc=0.52520000, patience=0\n",
      "epoch 12: train_ce_Loss=1.26101140, train_acc=0.54897500, valid_ce_loss=1.32913722, valid_acc=0.52290000, patience=1\n",
      "epoch 13: train_ce_Loss=1.24262150, train_acc=0.55557500, valid_ce_loss=1.31513398, valid_acc=0.52960000, patience=0\n",
      "epoch 14: train_ce_Loss=1.23122029, train_acc=0.55955000, valid_ce_loss=1.31430905, valid_acc=0.52800000, patience=0\n",
      "epoch 15: train_ce_Loss=1.21780236, train_acc=0.56535000, valid_ce_loss=1.30041766, valid_acc=0.53590000, patience=0\n",
      "epoch 16: train_ce_Loss=1.20255923, train_acc=0.56830000, valid_ce_loss=1.30109736, valid_acc=0.53550000, patience=1\n",
      "epoch 17: train_ce_Loss=1.19699771, train_acc=0.57122500, valid_ce_loss=1.31061482, valid_acc=0.53010000, patience=2\n",
      "epoch 18: train_ce_Loss=1.18642230, train_acc=0.57515000, valid_ce_loss=1.28947247, valid_acc=0.53980000, patience=0\n",
      "epoch 19: train_ce_Loss=1.17123493, train_acc=0.58057500, valid_ce_loss=1.30182217, valid_acc=0.53140000, patience=1\n",
      "epoch 20: train_ce_Loss=1.16444865, train_acc=0.58197500, valid_ce_loss=1.29075154, valid_acc=0.54110000, patience=2\n",
      "epoch 21: train_ce_Loss=1.15084024, train_acc=0.58752500, valid_ce_loss=1.28942426, valid_acc=0.54350000, patience=0\n",
      "epoch 22: train_ce_Loss=1.14365390, train_acc=0.58955000, valid_ce_loss=1.29653642, valid_acc=0.54310000, patience=1\n",
      "epoch 23: train_ce_Loss=1.14330031, train_acc=0.58875000, valid_ce_loss=1.28494489, valid_acc=0.54860000, patience=0\n",
      "epoch 24: train_ce_Loss=1.13093450, train_acc=0.59502500, valid_ce_loss=1.28599391, valid_acc=0.54310000, patience=1\n",
      "epoch 25: train_ce_Loss=1.12720723, train_acc=0.59632500, valid_ce_loss=1.28834291, valid_acc=0.54440000, patience=2\n",
      "epoch 26: train_ce_Loss=1.11145147, train_acc=0.60162500, valid_ce_loss=1.28836291, valid_acc=0.53790000, patience=3\n",
      "epoch 27: train_ce_Loss=1.10831108, train_acc=0.60080000, valid_ce_loss=1.28509992, valid_acc=0.54320000, patience=4\n",
      "epoch 28: train_ce_Loss=1.10426330, train_acc=0.60532500, valid_ce_loss=1.28101313, valid_acc=0.54600000, patience=0\n",
      "epoch 29: train_ce_Loss=1.09294241, train_acc=0.60777500, valid_ce_loss=1.29116058, valid_acc=0.54570000, patience=1\n",
      "epoch 30: train_ce_Loss=1.08986959, train_acc=0.60872500, valid_ce_loss=1.28505219, valid_acc=0.54430000, patience=2\n",
      "epoch 31: train_ce_Loss=1.08732608, train_acc=0.61037500, valid_ce_loss=1.29433017, valid_acc=0.53940000, patience=3\n",
      "epoch 32: train_ce_Loss=1.08048560, train_acc=0.61337500, valid_ce_loss=1.27849121, valid_acc=0.55090000, patience=0\n",
      "epoch 33: train_ce_Loss=1.06390981, train_acc=0.61930000, valid_ce_loss=1.28564924, valid_acc=0.54730000, patience=1\n",
      "epoch 34: train_ce_Loss=1.06209330, train_acc=0.61615000, valid_ce_loss=1.27865797, valid_acc=0.54810000, patience=2\n",
      "epoch 35: train_ce_Loss=1.06228587, train_acc=0.62025000, valid_ce_loss=1.28800688, valid_acc=0.54670000, patience=3\n",
      "epoch 36: train_ce_Loss=1.06097368, train_acc=0.61887500, valid_ce_loss=1.28039592, valid_acc=0.54390000, patience=4\n",
      "epoch 37: train_ce_Loss=1.04791585, train_acc=0.62235000, valid_ce_loss=1.28200961, valid_acc=0.54590000, patience=5\n",
      "epoch 38: train_ce_Loss=1.03966188, train_acc=0.62702500, valid_ce_loss=1.27715631, valid_acc=0.54890000, patience=0\n",
      "epoch 39: train_ce_Loss=1.04302581, train_acc=0.62337500, valid_ce_loss=1.28079918, valid_acc=0.54700000, patience=1\n",
      "epoch 40: train_ce_Loss=1.04242521, train_acc=0.62480000, valid_ce_loss=1.27658356, valid_acc=0.54790000, patience=0\n",
      "epoch 41: train_ce_Loss=1.03252786, train_acc=0.62955000, valid_ce_loss=1.27683975, valid_acc=0.55060000, patience=1\n",
      "epoch 42: train_ce_Loss=1.02853565, train_acc=0.63105000, valid_ce_loss=1.28529729, valid_acc=0.55020000, patience=2\n",
      "epoch 43: train_ce_Loss=1.02805054, train_acc=0.63027500, valid_ce_loss=1.29549753, valid_acc=0.54370000, patience=3\n",
      "epoch 44: train_ce_Loss=1.02031560, train_acc=0.63332500, valid_ce_loss=1.29183949, valid_acc=0.54610000, patience=4\n",
      "epoch 45: train_ce_Loss=1.02073408, train_acc=0.63372500, valid_ce_loss=1.29102125, valid_acc=0.54820000, patience=5\n",
      "epoch 46: train_ce_Loss=1.00982335, train_acc=0.63742500, valid_ce_loss=1.28373232, valid_acc=0.55220000, patience=6\n",
      "epoch 47: train_ce_Loss=1.00900891, train_acc=0.63662500, valid_ce_loss=1.29830967, valid_acc=0.54650000, patience=7\n",
      "epoch 48: train_ce_Loss=1.00481307, train_acc=0.63807500, valid_ce_loss=1.29284628, valid_acc=0.54360000, patience=8\n",
      "epoch 49: train_ce_Loss=1.00082126, train_acc=0.63732500, valid_ce_loss=1.28494040, valid_acc=0.54810000, patience=9\n",
      "epoch 50: train_ce_Loss=0.99471220, train_acc=0.64262500, valid_ce_loss=1.29181561, valid_acc=0.54720000, patience=10\n",
      "epoch 51: train_ce_Loss=0.99070003, train_acc=0.64235000, valid_ce_loss=1.28758005, valid_acc=0.54740000, patience=11\n",
      "epoch 52: train_ce_Loss=0.99331315, train_acc=0.64452500, valid_ce_loss=1.29609494, valid_acc=0.54950000, patience=12\n",
      "epoch 53: train_ce_Loss=0.99041585, train_acc=0.64242500, valid_ce_loss=1.30136603, valid_acc=0.54360000, patience=13\n",
      "epoch 54: train_ce_Loss=0.98391530, train_acc=0.64747500, valid_ce_loss=1.29921517, valid_acc=0.54780000, patience=14\n",
      "epoch 55: train_ce_Loss=0.98309954, train_acc=0.64610000, valid_ce_loss=1.29136998, valid_acc=0.54590000, patience=15\n",
      "epoch 56, early stopping\n",
      "best at epoch 40, train_loss: 1.04242521, train_acc: 0.62480000, valid_loss: 1.27658356, valid_acc: 0.54790000\n",
      "loss: 1.2764, accuracy: 0.5493, f1: 0.6589\n"
     ]
    }
   ],
   "source": [
    "# create a model\n",
    "myMLP = MLP(layers=[LinearLayer(128,200),\n",
    "                    BatchNormalizationLayer(200),\n",
    "                    ReLULayer(),\n",
    "                    DropOutLayer(dropout_ratio=0.1),\n",
    "                    LinearLayer(200,200),\n",
    "                    BatchNormalizationLayer(200),\n",
    "                    ReLULayer(),\n",
    "                    DropOutLayer(dropout_ratio=0.1),\n",
    "                    LinearLayer(200,10),\n",
    "                    SoftMaxLayer()])\n",
    "\n",
    "# train and test the model\n",
    "myMLP.train(x_train=x_train, y_train=y_train.flatten(), x_valid=x_valid, y_valid=y_valid.flatten(),\n",
    "            optimizer=\"momentum\", learning_rate=0.1, weight_decay=0.1, patience=15, verbose=3)\n",
    "\n",
    "# predict on test dataset and print result\n",
    "pred = myMLP.predict(x_test)\n",
    "print('loss: {:.4f}, accuracy: {:.4f}, f1: {:.4f}'.format(\n",
    "    CrossEntropyLoss(myMLP, pred, y_test.flatten()).get_loss(),\n",
    "    np.mean(pred.argmax(1) == y_test.flatten()),\n",
    "    f1_score(y_test.flatten(), pred.argmax(1))))"
   ],
   "metadata": {
    "collapsed": false,
    "pycharm": {
     "name": "#%%\n"
    }
   }
  },
  {
   "cell_type": "code",
   "execution_count": 11,
   "outputs": [
    {
     "data": {
      "text/plain": "Predicted      0      1      2      3      4      5      6      7      8  \\\nActual                                                                     \n0          0.639  0.024  0.060  0.014  0.040  0.016  0.033  0.022  0.111   \n1          0.032  0.624  0.013  0.020  0.017  0.007  0.032  0.021  0.070   \n2          0.069  0.011  0.390  0.074  0.166  0.062  0.133  0.055  0.015   \n3          0.026  0.015  0.075  0.349  0.084  0.184  0.153  0.060  0.016   \n4          0.033  0.006  0.112  0.044  0.520  0.043  0.138  0.073  0.021   \n5          0.020  0.002  0.079  0.234  0.075  0.400  0.080  0.086  0.009   \n6          0.005  0.010  0.067  0.066  0.084  0.039  0.695  0.018  0.008   \n7          0.031  0.006  0.042  0.058  0.097  0.072  0.035  0.611  0.012   \n8          0.102  0.054  0.017  0.036  0.029  0.014  0.020  0.019  0.661   \n9          0.040  0.142  0.015  0.047  0.017  0.012  0.026  0.045  0.052   \n\nPredicted      9  \nActual            \n0          0.041  \n1          0.164  \n2          0.025  \n3          0.038  \n4          0.010  \n5          0.015  \n6          0.008  \n7          0.036  \n8          0.048  \n9          0.604  ",
      "text/html": "<div>\n<style scoped>\n    .dataframe tbody tr th:only-of-type {\n        vertical-align: middle;\n    }\n\n    .dataframe tbody tr th {\n        vertical-align: top;\n    }\n\n    .dataframe thead th {\n        text-align: right;\n    }\n</style>\n<table border=\"1\" class=\"dataframe\">\n  <thead>\n    <tr style=\"text-align: right;\">\n      <th>Predicted</th>\n      <th>0</th>\n      <th>1</th>\n      <th>2</th>\n      <th>3</th>\n      <th>4</th>\n      <th>5</th>\n      <th>6</th>\n      <th>7</th>\n      <th>8</th>\n      <th>9</th>\n    </tr>\n    <tr>\n      <th>Actual</th>\n      <th></th>\n      <th></th>\n      <th></th>\n      <th></th>\n      <th></th>\n      <th></th>\n      <th></th>\n      <th></th>\n      <th></th>\n      <th></th>\n    </tr>\n  </thead>\n  <tbody>\n    <tr>\n      <th>0</th>\n      <td>0.639</td>\n      <td>0.024</td>\n      <td>0.060</td>\n      <td>0.014</td>\n      <td>0.040</td>\n      <td>0.016</td>\n      <td>0.033</td>\n      <td>0.022</td>\n      <td>0.111</td>\n      <td>0.041</td>\n    </tr>\n    <tr>\n      <th>1</th>\n      <td>0.032</td>\n      <td>0.624</td>\n      <td>0.013</td>\n      <td>0.020</td>\n      <td>0.017</td>\n      <td>0.007</td>\n      <td>0.032</td>\n      <td>0.021</td>\n      <td>0.070</td>\n      <td>0.164</td>\n    </tr>\n    <tr>\n      <th>2</th>\n      <td>0.069</td>\n      <td>0.011</td>\n      <td>0.390</td>\n      <td>0.074</td>\n      <td>0.166</td>\n      <td>0.062</td>\n      <td>0.133</td>\n      <td>0.055</td>\n      <td>0.015</td>\n      <td>0.025</td>\n    </tr>\n    <tr>\n      <th>3</th>\n      <td>0.026</td>\n      <td>0.015</td>\n      <td>0.075</td>\n      <td>0.349</td>\n      <td>0.084</td>\n      <td>0.184</td>\n      <td>0.153</td>\n      <td>0.060</td>\n      <td>0.016</td>\n      <td>0.038</td>\n    </tr>\n    <tr>\n      <th>4</th>\n      <td>0.033</td>\n      <td>0.006</td>\n      <td>0.112</td>\n      <td>0.044</td>\n      <td>0.520</td>\n      <td>0.043</td>\n      <td>0.138</td>\n      <td>0.073</td>\n      <td>0.021</td>\n      <td>0.010</td>\n    </tr>\n    <tr>\n      <th>5</th>\n      <td>0.020</td>\n      <td>0.002</td>\n      <td>0.079</td>\n      <td>0.234</td>\n      <td>0.075</td>\n      <td>0.400</td>\n      <td>0.080</td>\n      <td>0.086</td>\n      <td>0.009</td>\n      <td>0.015</td>\n    </tr>\n    <tr>\n      <th>6</th>\n      <td>0.005</td>\n      <td>0.010</td>\n      <td>0.067</td>\n      <td>0.066</td>\n      <td>0.084</td>\n      <td>0.039</td>\n      <td>0.695</td>\n      <td>0.018</td>\n      <td>0.008</td>\n      <td>0.008</td>\n    </tr>\n    <tr>\n      <th>7</th>\n      <td>0.031</td>\n      <td>0.006</td>\n      <td>0.042</td>\n      <td>0.058</td>\n      <td>0.097</td>\n      <td>0.072</td>\n      <td>0.035</td>\n      <td>0.611</td>\n      <td>0.012</td>\n      <td>0.036</td>\n    </tr>\n    <tr>\n      <th>8</th>\n      <td>0.102</td>\n      <td>0.054</td>\n      <td>0.017</td>\n      <td>0.036</td>\n      <td>0.029</td>\n      <td>0.014</td>\n      <td>0.020</td>\n      <td>0.019</td>\n      <td>0.661</td>\n      <td>0.048</td>\n    </tr>\n    <tr>\n      <th>9</th>\n      <td>0.040</td>\n      <td>0.142</td>\n      <td>0.015</td>\n      <td>0.047</td>\n      <td>0.017</td>\n      <td>0.012</td>\n      <td>0.026</td>\n      <td>0.045</td>\n      <td>0.052</td>\n      <td>0.604</td>\n    </tr>\n  </tbody>\n</table>\n</div>"
     },
     "execution_count": 11,
     "metadata": {},
     "output_type": "execute_result"
    }
   ],
   "source": [
    "pred = myMLP.predict(x_test)\n",
    "y_actu = pd.Series(y_test.reshape(y_test.shape[0]), name='Actual')\n",
    "y_pred = pd.Series(pred.argmax(1), name='Predicted')\n",
    "df_confusion = pd.crosstab(y_actu, y_pred)\n",
    "df_confusion_norm = df_confusion.div(df_confusion.sum(axis=1), axis=\"index\")\n",
    "df_confusion_norm"
   ],
   "metadata": {
    "collapsed": false,
    "pycharm": {
     "name": "#%%\n"
    }
   }
  },
  {
   "cell_type": "code",
   "execution_count": 14,
   "outputs": [
    {
     "name": "stdout",
     "output_type": "stream",
     "text": [
      "accuracy: 0.5493\n",
      "f1 score: 0.6589229144667371\n"
     ]
    }
   ],
   "source": [
    "print('accuracy:', np.mean(pred.argmax(1) == y_test.flatten()))\n",
    "print('f1 score:', f1_score(y_actu, y_pred))"
   ],
   "metadata": {
    "collapsed": false,
    "pycharm": {
     "name": "#%%\n"
    }
   }
  },
  {
   "cell_type": "code",
   "execution_count": 15,
   "outputs": [
    {
     "data": {
      "text/plain": "<Axes: xlabel='Predicted', ylabel='Actual'>"
     },
     "execution_count": 15,
     "metadata": {},
     "output_type": "execute_result"
    },
    {
     "data": {
      "text/plain": "<Figure size 640x480 with 2 Axes>",
      "image/png": "[encoded data removed]"
     },
     "metadata": {},
     "output_type": "display_data"
    }
   ],
   "source": [
    "sns.heatmap(df_confusion_norm, annot=True)"
   ],
   "metadata": {
    "collapsed": false,
    "pycharm": {
     "name": "#%%\n"
    }
   }
  }
 ],
 "metadata": {
  "kernelspec": {
   "display_name": "Python 3 (ipykernel)",
   "language": "python",
   "name": "python3"
  },
  "language_info": {
   "codemirror_mode": {
    "name": "ipython",
    "version": 3
   },
   "file_extension": ".py",
   "mimetype": "text/x-python",
   "name": "python",
   "nbconvert_exporter": "python",
   "pygments_lexer": "ipython3",
   "version": "3.9.16"
  }
 },
 "nbformat": 4,
 "nbformat_minor": 5
}